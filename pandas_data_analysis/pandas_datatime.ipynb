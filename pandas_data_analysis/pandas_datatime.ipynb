{
 "cells": [
  {
   "cell_type": "code",
   "execution_count": 20,
   "metadata": {},
   "outputs": [],
   "source": [
    "import pandas as pd    # 데이터 조작 및 분석을 위한 라이브러리\n",
    "import numpy as np     # 데이터 과학과 ,수학계산에 핵심 라이브러리\n"
   ]
  },
  {
   "cell_type": "markdown",
   "metadata": {},
   "source": [
    "Datetime 인덱스\n",
    "시계열 객체인 Series는 시계열 데이터를 관리하는 객체이기 때문에 데이터가 시간에 의해 관리되어저야함  \n",
    "지금까지는 단순한 인덱스로 사용하였는데 이를 시계열로 표현하기위해서 DatetimeIndex를 사용해야함  \n",
    "DatetimeIndex는 시계열 인덱스를 사용하기 위한 인덱스이며 판다스.to_datetime, 판다스.date_range 메서드를 사용하여 생성할 수 있음  "
   ]
  },
  {
   "cell_type": "markdown",
   "metadata": {},
   "source": [
    "`to_datetime()` 메서드는 날짜 및 시간을 나타내는   \n",
    "문자열을 Datetime 자료형으로 변경한 후 `Datetimeindex`를 생성함"
   ]
  },
  {
   "cell_type": "code",
   "execution_count": null,
   "metadata": {},
   "outputs": [],
   "source": []
  },
  {
   "cell_type": "code",
   "execution_count": 29,
   "metadata": {},
   "outputs": [
    {
     "data": {
      "text/plain": [
       "DatetimeIndex(['2018-01-01', '2018-01-04', '2018-01-05', '2018-01-06'], dtype='datetime64[ns]', freq=None)"
      ]
     },
     "execution_count": 29,
     "metadata": {},
     "output_type": "execute_result"
    }
   ],
   "source": [
    "date_str = [\"2018/ 1/ 1\", \"2018/ 1/ 4\", \"2018/ 1/ 5\", \"2018/ 1/ 6\"]\n",
    "idx = pd.to_datetime(date_str)\n",
    "idx"
   ]
  },
  {
   "cell_type": "code",
   "execution_count": 14,
   "metadata": {},
   "outputs": [
    {
     "data": {
      "text/plain": [
       "2018-01-01   -1.304747\n",
       "2018-01-04   -0.232038\n",
       "2018-01-05   -0.092905\n",
       "2018-01-06   -0.640878\n",
       "dtype: float64"
      ]
     },
     "execution_count": 14,
     "metadata": {},
     "output_type": "execute_result"
    }
   ],
   "source": [
    "# 시리즈로 변환\n",
    "# 인덱스 타입: datetime 타입\n",
    "series = pd.Series(np.random.randn(4),index=idx)\n",
    "series\n"
   ]
  },
  {
   "cell_type": "code",
   "execution_count": 13,
   "metadata": {},
   "outputs": [
    {
     "data": {
      "text/plain": [
       "2018,1,1   -0.903611\n",
       "2018,1,4    1.812816\n",
       "2018,1,5    0.793001\n",
       "2018,1,6    0.498726\n",
       "dtype: float64"
      ]
     },
     "execution_count": 13,
     "metadata": {},
     "output_type": "execute_result"
    }
   ],
   "source": [
    "# 시리즈로 변환\n",
    "# 인덱스 타입: string 타입\n",
    "series = pd.Series(np.random.randn(4),index=date_str)\n",
    "series\n"
   ]
  },
  {
   "cell_type": "markdown",
   "metadata": {},
   "source": [
    "`date_range` 메서드는 날짜 및 시간에 대해서 시작일과 종료일 / 시작일과 기간을  \n",
    "입력하여 범위 내의 Datetimeindex를 생성"
   ]
  },
  {
   "cell_type": "code",
   "execution_count": 17,
   "metadata": {},
   "outputs": [
    {
     "data": {
      "text/plain": [
       "DatetimeIndex(['2024-01-01', '2024-01-02', '2024-01-03', '2024-01-04',\n",
       "               '2024-01-05', '2024-01-06', '2024-01-07', '2024-01-08',\n",
       "               '2024-01-09', '2024-01-10', '2024-01-11', '2024-01-12',\n",
       "               '2024-01-13', '2024-01-14', '2024-01-15', '2024-01-16',\n",
       "               '2024-01-17', '2024-01-18', '2024-01-19', '2024-01-20',\n",
       "               '2024-01-21', '2024-01-22', '2024-01-23', '2024-01-24',\n",
       "               '2024-01-25', '2024-01-26', '2024-01-27', '2024-01-28',\n",
       "               '2024-01-29', '2024-01-30', '2024-01-31', '2024-02-01',\n",
       "               '2024-02-02', '2024-02-03', '2024-02-04', '2024-02-05',\n",
       "               '2024-02-06', '2024-02-07', '2024-02-08', '2024-02-09',\n",
       "               '2024-02-10', '2024-02-11', '2024-02-12', '2024-02-13',\n",
       "               '2024-02-14', '2024-02-15', '2024-02-16', '2024-02-17',\n",
       "               '2024-02-18', '2024-02-19', '2024-02-20', '2024-02-21',\n",
       "               '2024-02-22', '2024-02-23', '2024-02-24', '2024-02-25',\n",
       "               '2024-02-26', '2024-02-27', '2024-02-28', '2024-02-29',\n",
       "               '2024-03-01', '2024-03-02', '2024-03-03', '2024-03-04',\n",
       "               '2024-03-05', '2024-03-06', '2024-03-07', '2024-03-08',\n",
       "               '2024-03-09', '2024-03-10', '2024-03-11', '2024-03-12',\n",
       "               '2024-03-13', '2024-03-14', '2024-03-15', '2024-03-16',\n",
       "               '2024-03-17', '2024-03-18', '2024-03-19', '2024-03-20',\n",
       "               '2024-03-21', '2024-03-22', '2024-03-23', '2024-03-24',\n",
       "               '2024-03-25', '2024-03-26', '2024-03-27', '2024-03-28',\n",
       "               '2024-03-29', '2024-03-30', '2024-03-31'],\n",
       "              dtype='datetime64[ns]', freq='D')"
      ]
     },
     "execution_count": 17,
     "metadata": {},
     "output_type": "execute_result"
    }
   ],
   "source": [
    "pd.date_range('2024-01-01','2024-03-31')"
   ]
  },
  {
   "cell_type": "code",
   "execution_count": 19,
   "metadata": {},
   "outputs": [
    {
     "data": {
      "text/plain": [
       "DatetimeIndex(['2024-01-01', '2024-01-02', '2024-01-03', '2024-01-04',\n",
       "               '2024-01-05', '2024-01-06', '2024-01-07', '2024-01-08',\n",
       "               '2024-01-09', '2024-01-10', '2024-01-11', '2024-01-12',\n",
       "               '2024-01-13', '2024-01-14', '2024-01-15', '2024-01-16',\n",
       "               '2024-01-17', '2024-01-18', '2024-01-19', '2024-01-20',\n",
       "               '2024-01-21', '2024-01-22', '2024-01-23', '2024-01-24',\n",
       "               '2024-01-25', '2024-01-26', '2024-01-27', '2024-01-28',\n",
       "               '2024-01-29', '2024-01-30'],\n",
       "              dtype='datetime64[ns]', freq='D')"
      ]
     },
     "execution_count": 19,
     "metadata": {},
     "output_type": "execute_result"
    }
   ],
   "source": [
    "pd.date_range('2024-01-01',periods=30)"
   ]
  },
  {
   "cell_type": "markdown",
   "metadata": {},
   "source": [
    "`freq` 인수로 특정한 날짜만 생성되도록 할 수 있음"
   ]
  },
  {
   "cell_type": "code",
   "execution_count": 24,
   "metadata": {},
   "outputs": [
    {
     "data": {
      "text/plain": [
       "DatetimeIndex(['2024-02-29 09:48:00', '2024-02-29 09:48:01',\n",
       "               '2024-02-29 09:48:02', '2024-02-29 09:48:03',\n",
       "               '2024-02-29 09:48:04', '2024-02-29 09:48:05',\n",
       "               '2024-02-29 09:48:06', '2024-02-29 09:48:07',\n",
       "               '2024-02-29 09:48:08', '2024-02-29 09:48:09',\n",
       "               '2024-02-29 09:48:10'],\n",
       "              dtype='datetime64[ns]', freq='s')"
      ]
     },
     "execution_count": 24,
     "metadata": {},
     "output_type": "execute_result"
    }
   ],
   "source": [
    "# s: 초\n",
    "pd.date_range('2024-02-29 09:48:00','2024-02-29 09:48:10', freq='s')"
   ]
  },
  {
   "cell_type": "code",
   "execution_count": 25,
   "metadata": {},
   "outputs": [
    {
     "data": {
      "text/plain": [
       "DatetimeIndex(['2024-02-01', '2024-02-02', '2024-02-05', '2024-02-06',\n",
       "               '2024-02-07', '2024-02-08', '2024-02-09', '2024-02-12',\n",
       "               '2024-02-13', '2024-02-14', '2024-02-15', '2024-02-16',\n",
       "               '2024-02-19', '2024-02-20', '2024-02-21', '2024-02-22',\n",
       "               '2024-02-23', '2024-02-26', '2024-02-27', '2024-02-28',\n",
       "               '2024-02-29'],\n",
       "              dtype='datetime64[ns]', freq='B')"
      ]
     },
     "execution_count": 25,
     "metadata": {},
     "output_type": "execute_result"
    }
   ],
   "source": [
    "# B : 평일\n",
    "pd.date_range('2024-02-01','2024-02-29',freq='B')"
   ]
  },
  {
   "cell_type": "code",
   "execution_count": 27,
   "metadata": {},
   "outputs": [
    {
     "data": {
      "text/plain": [
       "DatetimeIndex(['2024-03-31', '2024-06-30', '2024-09-30', '2024-12-31'], dtype='datetime64[ns]', freq='QE-DEC')"
      ]
     },
     "execution_count": 27,
     "metadata": {},
     "output_type": "execute_result"
    }
   ],
   "source": [
    "# Q-DEC : 각 분기별 마지막 날\n",
    "pd.date_range('2024-01-01','2024-12-31',freq='QE-DEC')"
   ]
  },
  {
   "cell_type": "markdown",
   "metadata": {},
   "source": [
    "### `shift` 연산\n",
    "`shift()` 메서드는 인덱스는 그대로 두고 데이터만 이동\n",
    "`freq` 인수를 지정하면 인덱스를 변경한다"
   ]
  },
  {
   "cell_type": "code",
   "execution_count": 35,
   "metadata": {},
   "outputs": [
    {
     "data": {
      "text/plain": [
       "2024-02-29    1.043507\n",
       "2024-03-31   -1.121243\n",
       "2024-04-30    0.881573\n",
       "2024-05-31   -1.661599\n",
       "Freq: ME, dtype: float64"
      ]
     },
     "execution_count": 35,
     "metadata": {},
     "output_type": "execute_result"
    }
   ],
   "source": [
    "ts = pd.Series(np.random.randn(4), index = pd.date_range('2024-02-01',periods = 4, freq='ME'))\n",
    "ts"
   ]
  },
  {
   "cell_type": "code",
   "execution_count": 40,
   "metadata": {},
   "outputs": [
    {
     "data": {
      "text/plain": [
       "2024-02-29         NaN\n",
       "2024-03-31    1.043507\n",
       "2024-04-30   -1.121243\n",
       "2024-05-31    0.881573\n",
       "Freq: ME, dtype: float64"
      ]
     },
     "execution_count": 40,
     "metadata": {},
     "output_type": "execute_result"
    }
   ],
   "source": [
    "ts.shift(1)"
   ]
  },
  {
   "cell_type": "code",
   "execution_count": 42,
   "metadata": {},
   "outputs": [
    {
     "data": {
      "text/plain": [
       "2024-04-30    1.043507\n",
       "2024-05-31   -1.121243\n",
       "2024-06-30    0.881573\n",
       "2024-07-31   -1.661599\n",
       "Freq: ME, dtype: float64"
      ]
     },
     "execution_count": 42,
     "metadata": {},
     "output_type": "execute_result"
    }
   ],
   "source": [
    "ts.shift(2,freq='ME')"
   ]
  },
  {
   "cell_type": "markdown",
   "metadata": {},
   "source": [
    "### `resample` 메서드\n",
    "`resanple()` 메서드는 `Datetimeindex`의 시간 간격을 재조정함\n",
    "시간 간격이 좁은 단위로 변경하면 데이터 양이 증가해서 업-샘플링(up-sampling)  \n",
    "넓은 단위로 변경되면 데이터 양이 감소해서 다운-샘플링 (down-sampling)"
   ]
  },
  {
   "cell_type": "code",
   "execution_count": 50,
   "metadata": {},
   "outputs": [
    {
     "data": {
      "text/plain": [
       "2024-01-01    0.221819\n",
       "2024-01-02    0.762929\n",
       "2024-01-03    1.936685\n",
       "2024-01-04   -0.446660\n",
       "2024-01-05    0.066394\n",
       "                ...   \n",
       "2024-04-05    0.585244\n",
       "2024-04-06    1.212515\n",
       "2024-04-07   -0.112861\n",
       "2024-04-08   -0.701041\n",
       "2024-04-09    0.598865\n",
       "Freq: D, Length: 100, dtype: float64"
      ]
     },
     "execution_count": 50,
     "metadata": {},
     "output_type": "execute_result"
    }
   ],
   "source": [
    "ts = pd.Series(np.random.randn(100), index = pd.date_range('2024-01-01',periods = 100) )\n",
    "ts"
   ]
  },
  {
   "cell_type": "markdown",
   "metadata": {},
   "source": [
    "다운- 샘플링 시에는 기존 데이터가 그룹화되는 경우와 같기 때문에 대표값을 지정해야함\n",
    "(집계처리를 해야 함)"
   ]
  },
  {
   "cell_type": "code",
   "execution_count": 54,
   "metadata": {},
   "outputs": [
    {
     "data": {
      "text/plain": [
       "2024-01-07    0.351385\n",
       "2024-01-14   -0.082289\n",
       "2024-01-21    0.156970\n",
       "2024-01-28    0.372929\n",
       "2024-02-04    0.329034\n",
       "2024-02-11   -0.648820\n",
       "2024-02-18   -0.125101\n",
       "2024-02-25    0.503557\n",
       "2024-03-03    0.057748\n",
       "2024-03-10   -0.254783\n",
       "2024-03-17   -0.378230\n",
       "2024-03-24   -0.061740\n",
       "2024-03-31    0.141166\n",
       "2024-04-07   -0.024009\n",
       "2024-04-14   -0.051088\n",
       "Freq: W-SUN, dtype: float64"
      ]
     },
     "execution_count": 54,
     "metadata": {},
     "output_type": "execute_result"
    }
   ],
   "source": [
    "ts.resample('W').mean()"
   ]
  },
  {
   "cell_type": "markdown",
   "metadata": {},
   "source": [
    "시간(시/분) 단위에서는 가장 빠른 값은 포함하고, 가장 늦은 값은 포함하지 않는다."
   ]
  },
  {
   "cell_type": "code",
   "execution_count": 57,
   "metadata": {},
   "outputs": [
    {
     "data": {
      "text/plain": [
       "2024-02-29 00:00:00     0\n",
       "2024-02-29 00:01:00     1\n",
       "2024-02-29 00:02:00     2\n",
       "2024-02-29 00:03:00     3\n",
       "2024-02-29 00:04:00     4\n",
       "2024-02-29 00:05:00     5\n",
       "2024-02-29 00:06:00     6\n",
       "2024-02-29 00:07:00     7\n",
       "2024-02-29 00:08:00     8\n",
       "2024-02-29 00:09:00     9\n",
       "2024-02-29 00:10:00    10\n",
       "2024-02-29 00:11:00    11\n",
       "2024-02-29 00:12:00    12\n",
       "2024-02-29 00:13:00    13\n",
       "2024-02-29 00:14:00    14\n",
       "2024-02-29 00:15:00    15\n",
       "2024-02-29 00:16:00    16\n",
       "2024-02-29 00:17:00    17\n",
       "2024-02-29 00:18:00    18\n",
       "2024-02-29 00:19:00    19\n",
       "2024-02-29 00:20:00    20\n",
       "2024-02-29 00:21:00    21\n",
       "2024-02-29 00:22:00    22\n",
       "2024-02-29 00:23:00    23\n",
       "2024-02-29 00:24:00    24\n",
       "2024-02-29 00:25:00    25\n",
       "2024-02-29 00:26:00    26\n",
       "2024-02-29 00:27:00    27\n",
       "2024-02-29 00:28:00    28\n",
       "2024-02-29 00:29:00    29\n",
       "2024-02-29 00:30:00    30\n",
       "2024-02-29 00:31:00    31\n",
       "2024-02-29 00:32:00    32\n",
       "2024-02-29 00:33:00    33\n",
       "2024-02-29 00:34:00    34\n",
       "2024-02-29 00:35:00    35\n",
       "2024-02-29 00:36:00    36\n",
       "2024-02-29 00:37:00    37\n",
       "2024-02-29 00:38:00    38\n",
       "2024-02-29 00:39:00    39\n",
       "2024-02-29 00:40:00    40\n",
       "2024-02-29 00:41:00    41\n",
       "2024-02-29 00:42:00    42\n",
       "2024-02-29 00:43:00    43\n",
       "2024-02-29 00:44:00    44\n",
       "2024-02-29 00:45:00    45\n",
       "2024-02-29 00:46:00    46\n",
       "2024-02-29 00:47:00    47\n",
       "2024-02-29 00:48:00    48\n",
       "2024-02-29 00:49:00    49\n",
       "2024-02-29 00:50:00    50\n",
       "2024-02-29 00:51:00    51\n",
       "2024-02-29 00:52:00    52\n",
       "2024-02-29 00:53:00    53\n",
       "2024-02-29 00:54:00    54\n",
       "2024-02-29 00:55:00    55\n",
       "2024-02-29 00:56:00    56\n",
       "2024-02-29 00:57:00    57\n",
       "2024-02-29 00:58:00    58\n",
       "2024-02-29 00:59:00    59\n",
       "Freq: min, dtype: int32"
      ]
     },
     "execution_count": 57,
     "metadata": {},
     "output_type": "execute_result"
    }
   ],
   "source": [
    "ts = pd.Series(np.arange(60),index=pd.date_range('2024-02-29',periods=60,freq='min'))\n",
    "ts"
   ]
  },
  {
   "cell_type": "code",
   "execution_count": 58,
   "metadata": {},
   "outputs": [
    {
     "data": {
      "text/plain": [
       "2024-02-29 00:00:00     0\n",
       "2024-02-29 00:10:00    10\n",
       "2024-02-29 00:20:00    20\n",
       "2024-02-29 00:30:00    30\n",
       "2024-02-29 00:40:00    40\n",
       "2024-02-29 00:50:00    50\n",
       "Freq: 10min, dtype: int32"
      ]
     },
     "execution_count": 58,
     "metadata": {},
     "output_type": "execute_result"
    }
   ],
   "source": [
    "ts.resample('10min').min()"
   ]
  },
  {
   "cell_type": "markdown",
   "metadata": {},
   "source": [
    "구간 한계 값을 가장 늦은 값으로 지정하고자 한다면 `closed='right'`를 지정함"
   ]
  },
  {
   "cell_type": "code",
   "execution_count": 61,
   "metadata": {},
   "outputs": [
    {
     "data": {
      "text/plain": [
       "2024-02-28 23:50:00     0\n",
       "2024-02-29 00:00:00     1\n",
       "2024-02-29 00:10:00    11\n",
       "2024-02-29 00:20:00    21\n",
       "2024-02-29 00:30:00    31\n",
       "2024-02-29 00:40:00    41\n",
       "2024-02-29 00:50:00    51\n",
       "Freq: 10min, dtype: int32"
      ]
     },
     "execution_count": 61,
     "metadata": {},
     "output_type": "execute_result"
    }
   ],
   "source": [
    "ts.resample('10min',closed='right').min()"
   ]
  },
  {
   "cell_type": "code",
   "execution_count": 62,
   "metadata": {},
   "outputs": [
    {
     "data": {
      "text/plain": [
       "2024-02-28 23:50:00     0\n",
       "2024-02-29 00:00:00    10\n",
       "2024-02-29 00:10:00    20\n",
       "2024-02-29 00:20:00    30\n",
       "2024-02-29 00:30:00    40\n",
       "2024-02-29 00:40:00    50\n",
       "2024-02-29 00:50:00    59\n",
       "Freq: 10min, dtype: int32"
      ]
     },
     "execution_count": 62,
     "metadata": {},
     "output_type": "execute_result"
    }
   ],
   "source": [
    "ts.resample('10min',closed='right').max()"
   ]
  },
  {
   "cell_type": "markdown",
   "metadata": {},
   "source": [
    "`ohlc()` 메서드는 구간의 시점 , 고점 , 저점 , 종점의 값을 표현"
   ]
  },
  {
   "cell_type": "code",
   "execution_count": null,
   "metadata": {},
   "outputs": [],
   "source": [
    "ts.resample('10min',closed='right').ohlc()"
   ]
  },
  {
   "cell_type": "markdown",
   "metadata": {},
   "source": [
    "업-샘플링은 데이터를 추가해야하기 때문에 foward filling 방식과  \n",
    "back filling 방식을 사용할 수 있음  \n",
    "\n",
    "foward filling은 이전 데이터를 가져와 사용하는 방법 - `ffill()`\n",
    "back filling은 다음 데이터를 가져와 사용하는 방법 - `bfill()`"
   ]
  },
  {
   "cell_type": "code",
   "execution_count": null,
   "metadata": {},
   "outputs": [],
   "source": [
    "ts.resample('30s').ffill()"
   ]
  },
  {
   "cell_type": "code",
   "execution_count": null,
   "metadata": {},
   "outputs": [],
   "source": [
    "ts.resample('30s').bfill()"
   ]
  },
  {
   "cell_type": "markdown",
   "metadata": {},
   "source": [
    "### `dt` 접근자\n",
    "datetime 자료형 시리즈는 `dt` 접근자를 사용하여 datetime 데이터 타입이 가지는   \n",
    "여러가지 속성 및 메서드를 사용할 수 있음"
   ]
  },
  {
   "cell_type": "code",
   "execution_count": 73,
   "metadata": {},
   "outputs": [
    {
     "data": {
      "text/plain": [
       "0   2024-01-01\n",
       "1   2024-01-02\n",
       "2   2024-01-03\n",
       "3   2024-01-04\n",
       "4   2024-01-05\n",
       "5   2024-01-06\n",
       "6   2024-01-07\n",
       "7   2024-01-08\n",
       "8   2024-01-09\n",
       "9   2024-01-10\n",
       "dtype: datetime64[ns]"
      ]
     },
     "execution_count": 73,
     "metadata": {},
     "output_type": "execute_result"
    }
   ],
   "source": [
    "s= pd.Series(pd.date_range('2024-01-01',periods=10))\n",
    "s"
   ]
  },
  {
   "cell_type": "markdown",
   "metadata": {},
   "source": [
    "`year`, `month`, `day` 와 같은 속성을 사용할 수 있음"
   ]
  },
  {
   "cell_type": "code",
   "execution_count": 77,
   "metadata": {},
   "outputs": [
    {
     "data": {
      "text/plain": [
       "0    2024\n",
       "1    2024\n",
       "2    2024\n",
       "3    2024\n",
       "4    2024\n",
       "5    2024\n",
       "6    2024\n",
       "7    2024\n",
       "8    2024\n",
       "9    2024\n",
       "dtype: int32"
      ]
     },
     "execution_count": 77,
     "metadata": {},
     "output_type": "execute_result"
    }
   ],
   "source": [
    "s.dt.year"
   ]
  },
  {
   "cell_type": "markdown",
   "metadata": {},
   "source": [
    "`strftime()` 메서드를 사용하여  \n",
    "datetime 데이터 타입의 데이터를 문자열 데이터로 변경 할 수 있음"
   ]
  },
  {
   "cell_type": "code",
   "execution_count": 78,
   "metadata": {},
   "outputs": [
    {
     "data": {
      "text/plain": [
       "0    2024-01-01 00:00:00\n",
       "1    2024-01-02 00:00:00\n",
       "2    2024-01-03 00:00:00\n",
       "3    2024-01-04 00:00:00\n",
       "4    2024-01-05 00:00:00\n",
       "5    2024-01-06 00:00:00\n",
       "6    2024-01-07 00:00:00\n",
       "7    2024-01-08 00:00:00\n",
       "8    2024-01-09 00:00:00\n",
       "9    2024-01-10 00:00:00\n",
       "dtype: object"
      ]
     },
     "execution_count": 78,
     "metadata": {},
     "output_type": "execute_result"
    }
   ],
   "source": [
    "s.dt.strftime('%Y.%M.%d.%H:%M:%s')"
   ]
  },
  {
   "cell_type": "markdown",
   "metadata": {},
   "source": [
    " **파이썬으로 다음 연산을 수행한다.**\n",
    "\n",
    "다음 명령으로 만들어진 데이터프레임에 대해 월별 value의 합계를 구하라. (힌트: `groupby` 메서드와 `dt` 접근자를 사용하라)\n",
    "\n",
    "```python\n",
    "np.random.seed(0)\n",
    "df = pd.DataFrame({\n",
    "    \"date\": pd.date_range(\"2020-12-25\", periods=100, freq=\"D\"),\n",
    "    \"value\": np.random.randint(100, size=(100,))\n",
    "})\n",
    "```\n",
    "\n"
   ]
  },
  {
   "cell_type": "code",
   "execution_count": null,
   "metadata": {},
   "outputs": [],
   "source": [
    "np.random.seed(0)\n",
    "df = pd.DataFrame({\n",
    "    \"date\": pd.date_range(\"2020-12-25\", periods=100, freq=\"M\"),\n",
    "    \"value\": np.random.randint(100, size=(100,))\n",
    "})\n",
    "df"
   ]
  },
  {
   "cell_type": "code",
   "execution_count": null,
   "metadata": {},
   "outputs": [],
   "source": [
    "df.date = df.date.dt.month\n",
    "df"
   ]
  },
  {
   "cell_type": "code",
   "execution_count": 119,
   "metadata": {},
   "outputs": [
    {
     "data": {
      "text/html": [
       "<div>\n",
       "<style scoped>\n",
       "    .dataframe tbody tr th:only-of-type {\n",
       "        vertical-align: middle;\n",
       "    }\n",
       "\n",
       "    .dataframe tbody tr th {\n",
       "        vertical-align: top;\n",
       "    }\n",
       "\n",
       "    .dataframe thead th {\n",
       "        text-align: right;\n",
       "    }\n",
       "</style>\n",
       "<table border=\"1\" class=\"dataframe\">\n",
       "  <thead>\n",
       "    <tr style=\"text-align: right;\">\n",
       "      <th></th>\n",
       "      <th>value</th>\n",
       "    </tr>\n",
       "    <tr>\n",
       "      <th>date</th>\n",
       "      <th></th>\n",
       "    </tr>\n",
       "  </thead>\n",
       "  <tbody>\n",
       "    <tr>\n",
       "      <th>1</th>\n",
       "      <td>364</td>\n",
       "    </tr>\n",
       "    <tr>\n",
       "      <th>2</th>\n",
       "      <td>463</td>\n",
       "    </tr>\n",
       "    <tr>\n",
       "      <th>3</th>\n",
       "      <td>374</td>\n",
       "    </tr>\n",
       "    <tr>\n",
       "      <th>4</th>\n",
       "      <td>390</td>\n",
       "    </tr>\n",
       "    <tr>\n",
       "      <th>5</th>\n",
       "      <td>423</td>\n",
       "    </tr>\n",
       "    <tr>\n",
       "      <th>6</th>\n",
       "      <td>373</td>\n",
       "    </tr>\n",
       "    <tr>\n",
       "      <th>7</th>\n",
       "      <td>274</td>\n",
       "    </tr>\n",
       "    <tr>\n",
       "      <th>8</th>\n",
       "      <td>395</td>\n",
       "    </tr>\n",
       "    <tr>\n",
       "      <th>9</th>\n",
       "      <td>548</td>\n",
       "    </tr>\n",
       "    <tr>\n",
       "      <th>10</th>\n",
       "      <td>387</td>\n",
       "    </tr>\n",
       "    <tr>\n",
       "      <th>11</th>\n",
       "      <td>428</td>\n",
       "    </tr>\n",
       "    <tr>\n",
       "      <th>12</th>\n",
       "      <td>404</td>\n",
       "    </tr>\n",
       "  </tbody>\n",
       "</table>\n",
       "</div>"
      ],
      "text/plain": [
       "      value\n",
       "date       \n",
       "1       364\n",
       "2       463\n",
       "3       374\n",
       "4       390\n",
       "5       423\n",
       "6       373\n",
       "7       274\n",
       "8       395\n",
       "9       548\n",
       "10      387\n",
       "11      428\n",
       "12      404"
      ]
     },
     "execution_count": 119,
     "metadata": {},
     "output_type": "execute_result"
    }
   ],
   "source": [
    "data_groups = df.groupby(df.date).sum()\n",
    "data_groups\n"
   ]
  }
 ],
 "metadata": {
  "kernelspec": {
   "display_name": "Python 3",
   "language": "python",
   "name": "python3"
  },
  "language_info": {
   "codemirror_mode": {
    "name": "ipython",
    "version": 3
   },
   "file_extension": ".py",
   "mimetype": "text/x-python",
   "name": "python",
   "nbconvert_exporter": "python",
   "pygments_lexer": "ipython3",
   "version": "3.12.2"
  }
 },
 "nbformat": 4,
 "nbformat_minor": 2
}
