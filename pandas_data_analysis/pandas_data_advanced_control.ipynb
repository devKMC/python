{
 "cells": [
  {
   "cell_type": "code",
   "execution_count": null,
   "metadata": {},
   "outputs": [],
   "source": [
    "import pandas as pd    # 데이터 조작 및 분석을 위한 라이브러리\n",
    "import numpy as np     # 데이터 과학과 ,수학계산에 핵심 라이브러리\n",
    "import seaborn         # 데이터 시각화 라이브러리"
   ]
  },
  {
   "cell_type": "markdown",
   "metadata": {},
   "source": [
    "### `merge` 함수를 통한 데이터프레임 병합  \n",
    "\n",
    "`merge()` 메서드로 공통 열 혹은 행을 기준으로 두 개의 데이터프레임을 병합 할 수 있음  \n",
    "병합의 기준이 되는 열 혹은 행을 `키(key)`라고 함\n",
    "\n",
    "기본적으로 `merge` 메서드는 **inner join** 형태를 가짐\n",
    "**outer(full), left, right join** 형태로 변경하고자 한다면 `how` 인수에 조인 방식을 지정함 \n",
    "\n",
    "`merge()` 메서드로 병합을 하려 한다면 동일한 이름의 열 또는 행이 존재해야함"
   ]
  },
  {
   "cell_type": "code",
   "execution_count": null,
   "metadata": {},
   "outputs": [],
   "source": [
    "df1 = pd.DataFrame({\n",
    "    '고객번호': [1001, 1002, 1003, 1004, 1005, 1006, 1007],\n",
    "    '이름': ['둘리', '도우너', '또치', '길동', '희동', '마이콜', '영희']\n",
    "}, columns=['고객번호', '이름'])\n",
    "df1"
   ]
  },
  {
   "cell_type": "code",
   "execution_count": null,
   "metadata": {},
   "outputs": [],
   "source": [
    "df2 = pd.DataFrame(\n",
    "    {\n",
    "        '고객번호' :[1001,1001,1005,1006,1008,1001],\n",
    "        '금액' : [10000,20000,15000,5000,10000,30000]\n",
    "    },  columns = ['고객번호','금액'])\n",
    "\n",
    "df2\n"
   ]
  },
  {
   "cell_type": "code",
   "execution_count": null,
   "metadata": {},
   "outputs": [],
   "source": [
    "pd.merge(df1,df2)"
   ]
  },
  {
   "cell_type": "code",
   "execution_count": null,
   "metadata": {},
   "outputs": [],
   "source": [
    "# full 의미로 좌측과 우측테이블을 모두 보여주고 없는 부분은 NaN 표시\n",
    "pd.merge(df1,df2,how='outer')"
   ]
  },
  {
   "cell_type": "code",
   "execution_count": null,
   "metadata": {},
   "outputs": [],
   "source": [
    "#좌측에대해서 존재하는것(컬럼)만 보여주고 나머지는 NaN으로 표시\n",
    "pd.merge(df1,df2,how='left')"
   ]
  },
  {
   "cell_type": "code",
   "execution_count": null,
   "metadata": {},
   "outputs": [],
   "source": [
    "#우측에대해서는 존재하는것(컬럼)만 보여주고 나머지는 NaN으로 표시\n",
    "pd.merge(df1,df2,how='right')"
   ]
  },
  {
   "cell_type": "markdown",
   "metadata": {},
   "source": [
    "만약 키 값에 동일한 데이터가 여러개 존재한다면 모든 경우의 수를 표현함"
   ]
  },
  {
   "cell_type": "code",
   "execution_count": null,
   "metadata": {},
   "outputs": [],
   "source": [
    "df3 = pd.DataFrame({\n",
    "    '품종' :['튤립','튤립','장미','장미'],\n",
    "    '꽃잎길이' :['1.4','1.3','1.5','1.3']\n",
    "})\n",
    "\n",
    "df3"
   ]
  },
  {
   "cell_type": "code",
   "execution_count": null,
   "metadata": {},
   "outputs": [],
   "source": [
    "df4 = pd.DataFrame({\n",
    "    '품종' :['튤립','장미','장미','무궁화'],\n",
    "    '꽃잎넓이' :['0.4','0.3','0.5','0.3']\n",
    "})\n",
    "\n",
    "df4\n"
   ]
  },
  {
   "cell_type": "code",
   "execution_count": null,
   "metadata": {},
   "outputs": [],
   "source": [
    "# 모든 경우의 수  튤립 2 x1 , 장미 2x2\n",
    "pd.merge(df3,df4)"
   ]
  },
  {
   "cell_type": "code",
   "execution_count": null,
   "metadata": {},
   "outputs": [],
   "source": [
    "# 똑같은 형태에서 없는것만 추가됨\n",
    "pd.merge(df3,df4,how='outer')"
   ]
  },
  {
   "cell_type": "markdown",
   "metadata": {},
   "source": [
    "병합되는 두 데이터프레임의 동일한 컬럼명이 여러개 존재한다면 모두 키가 되기 때문에  \n",
    "특정한 컬럼만 키로 사용하고자 한다면 `on` 인수로 지정해줘야함"
   ]
  },
  {
   "cell_type": "code",
   "execution_count": null,
   "metadata": {},
   "outputs": [],
   "source": [
    "df1 = pd.DataFrame({\n",
    "\n",
    "    '이름' :['춘향','몽룡','춘향'],\n",
    "    '날짜' :['20180101','20180102','20180102'],\n",
    "    '데이터':['20000','30000','100000']\n",
    "})\n",
    "\n",
    "df1"
   ]
  },
  {
   "cell_type": "code",
   "execution_count": null,
   "metadata": {},
   "outputs": [],
   "source": [
    "df2 = pd.DataFrame({\n",
    "    '이름':['춘향','몽룡'],\n",
    "    '데이터':['여','남']\n",
    "})\n",
    "\n",
    "df2"
   ]
  },
  {
   "cell_type": "code",
   "execution_count": null,
   "metadata": {},
   "outputs": [],
   "source": [
    "pd.merge(df1,df2,how='outer')"
   ]
  },
  {
   "cell_type": "code",
   "execution_count": null,
   "metadata": {},
   "outputs": [],
   "source": [
    "pd.merge(df1,df2,on='이름')"
   ]
  },
  {
   "cell_type": "markdown",
   "metadata": {},
   "source": [
    "키가 되는 기준열의 이름이 서로 다르면 `left_on`,`right_on` 인수에  \n",
    "사용할 키 컬럼 이름을 지정한다."
   ]
  },
  {
   "cell_type": "code",
   "execution_count": null,
   "metadata": {},
   "outputs": [],
   "source": [
    "df1 = pd.DataFrame({\n",
    "\n",
    "    '이름' :['춘향','몽룡','춘향'],\n",
    "    '날짜' :['20180101','20180102','20180102']\n",
    " \n",
    "})\n",
    "\n",
    "df1"
   ]
  },
  {
   "cell_type": "code",
   "execution_count": null,
   "metadata": {},
   "outputs": [],
   "source": [
    "df2 = pd.DataFrame({\n",
    "    '성명':['춘향','몽룡','길동'],\n",
    "    '데이터':['여','남','남']\n",
    "})\n",
    "\n",
    "df2"
   ]
  },
  {
   "cell_type": "code",
   "execution_count": null,
   "metadata": {},
   "outputs": [],
   "source": [
    "pd.merge(df1,df2,left_on='이름',right_on='성명')"
   ]
  },
  {
   "cell_type": "code",
   "execution_count": null,
   "metadata": {},
   "outputs": [],
   "source": [
    "df1 = pd.DataFrame({\n",
    "    '도시':['서울','서울','서울','부산','부산'],\n",
    "    '연도':[2000,2005,2010,2000,2005],\n",
    "    '인구':[980,970,960,360,350]\n",
    "\n",
    "})\n",
    "\n",
    "df1"
   ]
  },
  {
   "cell_type": "code",
   "execution_count": null,
   "metadata": {},
   "outputs": [],
   "source": [
    "df2 = pd.DataFrame(\n",
    "    np.arange(12).reshape((6,2)) ,          #12개의 데이터를 만들고 reshape 에 튜플로 6행 2열을 만든다\n",
    "    index=[\n",
    "        ['부산','부산','서울','서울','서울','서울'],\n",
    "        [2000,2005,2000,2005,2010,2015]\n",
    "    ],\n",
    "    columns=['데이터1','데이터2'])\n",
    "\n",
    "df2"
   ]
  },
  {
   "cell_type": "code",
   "execution_count": null,
   "metadata": {},
   "outputs": [],
   "source": [
    "pd.merge(df1, df2, left_on=['도시', '연도'], right_index=True)"
   ]
  },
  {
   "cell_type": "markdown",
   "metadata": {},
   "source": [
    "#### 'join' 메서드\n",
    "데이터프레임 인스턴스에 사용할 땐 `merge` 메서드 대신에 `joun`메서드를 사용"
   ]
  },
  {
   "cell_type": "code",
   "execution_count": null,
   "metadata": {},
   "outputs": [],
   "source": [
    "df1.join(df2, on=['도시', '연도']) #조인으로도 바로 가능하다"
   ]
  },
  {
   "cell_type": "markdown",
   "metadata": {},
   "source": [
    "### `concat` 메서드로 데이터 연결\n",
    "\n",
    "기준 열 지정없이 단순히 데이터를 연결하고자 할 땐 `concat()` 메서드를 사용함  \n",
    "기본적으로 위아래로 행을 연결하기 때문에 인덱스가 중복될 수 있음  \n",
    "\n",
    "만약 좌우로 열을 연결하고 싶을 땐 `axis=1` 인수를 사용함"
   ]
  },
  {
   "cell_type": "code",
   "execution_count": null,
   "metadata": {},
   "outputs": [],
   "source": [
    "s1 = pd.Series([0,1],index = ['A','B'])\n",
    "s1"
   ]
  },
  {
   "cell_type": "code",
   "execution_count": null,
   "metadata": {},
   "outputs": [],
   "source": [
    "s2 = pd.Series([2,3,4], index = ['A','B','C'])\n",
    "s2"
   ]
  },
  {
   "cell_type": "code",
   "execution_count": null,
   "metadata": {},
   "outputs": [],
   "source": [
    "pd.concat([s1,s2])"
   ]
  },
  {
   "cell_type": "code",
   "execution_count": null,
   "metadata": {},
   "outputs": [],
   "source": [
    "df1 = pd.DataFrame(\n",
    "    np.arange(6).reshape(3,2),\n",
    "    index=['a','b','c'],\n",
    "    columns=['데이터1','데이터2']\n",
    "\n",
    ")\n",
    "\n",
    "df1"
   ]
  },
  {
   "cell_type": "code",
   "execution_count": null,
   "metadata": {},
   "outputs": [],
   "source": [
    "df2 = pd.DataFrame(\n",
    "    np.arange(4).reshape(2,2),\n",
    "    index=['a','b'],\n",
    "    columns=['데이터1','데이터2']\n",
    "\n",
    ")\n",
    "\n",
    "df2"
   ]
  },
  {
   "cell_type": "code",
   "execution_count": null,
   "metadata": {},
   "outputs": [],
   "source": [
    "pd.concat([df1,df2], axis=1)"
   ]
  },
  {
   "cell_type": "markdown",
   "metadata": {},
   "source": [
    "### 파이썬으로 다음 연산을 수행한다.\n",
    "\n",
    "어느 회사의 전반기(1월 ~ 6월) 실적을 나타내는 데이터프레임과 후반기(7월 ~ 12월) 실적을 나타내는 데이터프레임을 만든 뒤 합친다. 실적 정보는 “매출”, “비용”, “이익” 으로 이루어진다. (이익 = 매출 - 비용).\n",
    "\n",
    "또한 1년간의 총 실적을 마지막 행으로 덧붙인다."
   ]
  },
  {
   "cell_type": "code",
   "execution_count": null,
   "metadata": {},
   "outputs": [],
   "source": [
    "# 방법 1\n",
    "\n",
    "company = pd.DataFrame({\n",
    "    '매출': [10000,11000,9000,12000,13000,8000],\n",
    "    '비용': [9000,9500,9000,10000,11000,10000],\n",
    "    '이익': [1000,1500,0,2000,2000,-2000]\n",
    "},\n",
    "index= ['1','2','3','4','5','6'])\n",
    "\n",
    "company\n",
    "\n"
   ]
  },
  {
   "cell_type": "code",
   "execution_count": null,
   "metadata": {},
   "outputs": [],
   "source": [
    "\n",
    "\n",
    "company2 = pd.DataFrame({\n",
    "    '매출': [9000,10000,12000,9000,10000,11000],\n",
    "    '비용': [10000,12000,10000,9000,9000,9500],\n",
    "    '이익': [-1000,-2000,2000,0,1000,1500]\n",
    "},index= ['7','8','9','10','11','12'])\n",
    "\n",
    "company2"
   ]
  },
  {
   "cell_type": "code",
   "execution_count": null,
   "metadata": {},
   "outputs": [],
   "source": [
    "pd.concat([company,company2])"
   ]
  },
  {
   "cell_type": "code",
   "execution_count": null,
   "metadata": {},
   "outputs": [],
   "source": [
    "# 방법 2\n",
    "company = pd.DataFrame(\n",
    "    data = ([[10000, 9000, 1000],\n",
    "              [11000, 9500, 1500],\n",
    "              [9000, 9000, 0],\n",
    "              [12000, 10000, 2000],\n",
    "              [13000, 11000, 2000],\n",
    "              [8000, 10000, -2000]]),\n",
    "    index=['1', '2', '3', '4', '5', '6'],\n",
    "    columns=['매출', '비용', '이익'])\n",
    "company"
   ]
  },
  {
   "cell_type": "code",
   "execution_count": null,
   "metadata": {},
   "outputs": [],
   "source": [
    "company2 = pd.DataFrame(\n",
    "    data = ([[10000, 10000, -1000],\n",
    "              [10000, 12000, -2000],\n",
    "              [12000, 10000, 2000],\n",
    "              [9000, 9000, 0],\n",
    "              [10000, 9000, 1000],\n",
    "              [11000, 9500, 1500]]),\n",
    "    index=['7', '8', '9', '10', '11', '12'],\n",
    "    columns=['매출', '비용', '이익'])\n",
    "company2"
   ]
  },
  {
   "cell_type": "code",
   "execution_count": null,
   "metadata": {},
   "outputs": [],
   "source": [
    "annuual = pd.concat([company, company2])\n",
    "annuual"
   ]
  },
  {
   "cell_type": "code",
   "execution_count": null,
   "metadata": {},
   "outputs": [],
   "source": [
    "annuual_sum = annuual.sum()\n",
    "annuual_sum.name = '총실적'\n",
    "annuual_sum"
   ]
  },
  {
   "cell_type": "code",
   "execution_count": null,
   "metadata": {},
   "outputs": [],
   "source": [
    "annuual.loc['총실적', :] = annuual_sum\n",
    "annuual"
   ]
  },
  {
   "cell_type": "markdown",
   "metadata": {},
   "source": [
    "### 피봇 테이블\n",
    "피봇 테이블:데이터에 이미 존재하는 기본 열을 행 인덱스와 열 인덱스로 사용하는 테이블  \n",
    "\n",
    "pandas에서 피봇테이블을 만들기 위해서는 `pivot` 메서드를 사용할 수 있다.\n",
    "`pivot` 메서드에는 `index` 인수로 행 인덱스로 사용할 열을 지정,  \n",
    "`columns` 인수로 열 인덱스로 사용할 열을 지정, `values` 인수로 표현할 데이터를 지정"
   ]
  },
  {
   "cell_type": "code",
   "execution_count": null,
   "metadata": {},
   "outputs": [],
   "source": [
    "df1 = pd.DataFrame({\n",
    "    '도시':['서울','서울','서울','부산','부산','부산','인천','인천'],\n",
    "    '연도':[2000,2005,2010,2000,2005,2010,2005,2010],\n",
    "    '인구':[980,970,960,360,350,350,250,260],\n",
    "    '지역':['수도권','수도권','수도권','경상권','경상권','경상권','수도권','수도권']\n",
    "})\n",
    "\n",
    "df1"
   ]
  },
  {
   "cell_type": "code",
   "execution_count": null,
   "metadata": {},
   "outputs": [],
   "source": [
    "# 내가 원하는 것들을 행과 열로 지정하여 값을 보는 것\n",
    "df1.pivot(index='도시',columns='연도',values='인구')"
   ]
  },
  {
   "cell_type": "markdown",
   "metadata": {},
   "source": [
    "행 인덱스나 열 인덱스를 리스트로 전달하면 다중 인덱스 피봇 테이블로 생성할 수 있음"
   ]
  },
  {
   "cell_type": "code",
   "execution_count": null,
   "metadata": {},
   "outputs": [],
   "source": [
    "df1.pivot(index=['지역','도시'],columns='연도',values='인구')"
   ]
  },
  {
   "cell_type": "markdown",
   "metadata": {},
   "source": [
    "행 인덱스와 열 인덱스 조건에 만족하는 데이터가 2개 이상 존재한다면  \n",
    "피봇 테이블을 생성할 수 없음"
   ]
  },
  {
   "cell_type": "code",
   "execution_count": null,
   "metadata": {},
   "outputs": [],
   "source": [
    "df1.pivot(index=\"지역\", columns=\"연도\", values=\"인구\") "
   ]
  },
  {
   "cell_type": "markdown",
   "metadata": {},
   "source": [
    "### 그룹 분석 \n",
    "\n",
    "데이터가 그룹을 이룰 때 그룹의 특성을 보여주는 분석 방법  \n",
    "그룹 분석은 피봇테이블과 다르게 키에 의해서 결정되는 데이터가 여러개 있을 경우  \n",
    "미리 지정한 연산을 통해서 해당 그룹의 대표값을 계산한다."
   ]
  },
  {
   "cell_type": "markdown",
   "metadata": {},
   "source": [
    "#### `groupby` 메서드\n",
    "\n",
    "`groupby` 메서드는 그룹 별로 분류하여 그룹 객체를 생성하는 메서드\n",
    "그룹 객체는 그룹 연산 메서드를 포함하고 있음"
   ]
  },
  {
   "cell_type": "markdown",
   "metadata": {},
   "source": [
    "#### 그룹 연산 메서드\n",
    "\n",
    "- `size()`,`count()` : 그룹 데이터의 개 수  \n",
    "- `mean()`,`median()`,`min()`,`max()` : 그룹 데이터의 평균 , 중앙값, 최소값 ,최대값  \n",
    "- `sum()`,`prod()`,`std()`,`var()`,`quantile()` : 그룹 데이터의 합계 , 곱, 표준편차 ,분산 ,시분위수\n",
    "- `first()`,`last()` : 그룹 데이터의 처음값, 마지막 값\n",
    "\n",
    "- `agg()`,`aggregate()`: 그룹 연산 메서드를 직접 생성하여 사용하도록 하는 메서드,  \n",
    "여러가지 그룹 연산을 동시에 하려할 때 해당 그룹 연산을 리스트로 전달하여 사용하도록 하는 메서드\n",
    "- `discribe()`: 하나의 대표값이 아니라 여러 개의 값을 데이터프레임으로 구하는 메서드\n",
    "- `apply()`: 하나의 대표값이 아니라 여러 개의 값을 데이터프레임으로 구하는데  \n",
    " 원하는 그룹 연산이 없을 때 메서드를 직접 생성하여 사용하도록 하는 메서드\n",
    "- `transform()`: 대표값을 생성하는 것이 아니라 데이터 자체를 변경하는 메서드"
   ]
  },
  {
   "cell_type": "code",
   "execution_count": 149,
   "metadata": {},
   "outputs": [
    {
     "data": {
      "text/html": [
       "<div>\n",
       "<style scoped>\n",
       "    .dataframe tbody tr th:only-of-type {\n",
       "        vertical-align: middle;\n",
       "    }\n",
       "\n",
       "    .dataframe tbody tr th {\n",
       "        vertical-align: top;\n",
       "    }\n",
       "\n",
       "    .dataframe thead th {\n",
       "        text-align: right;\n",
       "    }\n",
       "</style>\n",
       "<table border=\"1\" class=\"dataframe\">\n",
       "  <thead>\n",
       "    <tr style=\"text-align: right;\">\n",
       "      <th></th>\n",
       "      <th>key1</th>\n",
       "      <th>key2</th>\n",
       "      <th>data1</th>\n",
       "      <th>data2</th>\n",
       "    </tr>\n",
       "  </thead>\n",
       "  <tbody>\n",
       "    <tr>\n",
       "      <th>0</th>\n",
       "      <td>A</td>\n",
       "      <td>one</td>\n",
       "      <td>1</td>\n",
       "      <td>10</td>\n",
       "    </tr>\n",
       "    <tr>\n",
       "      <th>1</th>\n",
       "      <td>A</td>\n",
       "      <td>two</td>\n",
       "      <td>2</td>\n",
       "      <td>20</td>\n",
       "    </tr>\n",
       "    <tr>\n",
       "      <th>2</th>\n",
       "      <td>B</td>\n",
       "      <td>one</td>\n",
       "      <td>3</td>\n",
       "      <td>30</td>\n",
       "    </tr>\n",
       "    <tr>\n",
       "      <th>3</th>\n",
       "      <td>B</td>\n",
       "      <td>two</td>\n",
       "      <td>4</td>\n",
       "      <td>40</td>\n",
       "    </tr>\n",
       "    <tr>\n",
       "      <th>4</th>\n",
       "      <td>A</td>\n",
       "      <td>one</td>\n",
       "      <td>5</td>\n",
       "      <td>50</td>\n",
       "    </tr>\n",
       "  </tbody>\n",
       "</table>\n",
       "</div>"
      ],
      "text/plain": [
       "  key1 key2  data1  data2\n",
       "0    A  one      1     10\n",
       "1    A  two      2     20\n",
       "2    B  one      3     30\n",
       "3    B  two      4     40\n",
       "4    A  one      5     50"
      ]
     },
     "execution_count": 149,
     "metadata": {},
     "output_type": "execute_result"
    }
   ],
   "source": [
    "df2 = pd.DataFrame({\n",
    "     'key1' :['A','A','B','B','A'],\n",
    "     'key2' :['one','two','one','two','one'],\n",
    "     'data1':[1,2,3,4,5],\n",
    "     'data2':[10,20,30,40,50]\n",
    "})\n",
    "df2"
   ]
  },
  {
   "cell_type": "code",
   "execution_count": 145,
   "metadata": {},
   "outputs": [
    {
     "data": {
      "text/plain": [
       "<pandas.core.groupby.generic.DataFrameGroupBy object at 0x000001A01B9C9790>"
      ]
     },
     "execution_count": 145,
     "metadata": {},
     "output_type": "execute_result"
    }
   ],
   "source": [
    "data_groups = df2.groupby(df2.key1)\n",
    "data_groups"
   ]
  },
  {
   "cell_type": "code",
   "execution_count": 146,
   "metadata": {},
   "outputs": [
    {
     "data": {
      "text/plain": [
       "{'A': [0, 1, 4], 'B': [2, 3]}"
      ]
     },
     "execution_count": 146,
     "metadata": {},
     "output_type": "execute_result"
    }
   ],
   "source": [
    "data_groups.groups"
   ]
  },
  {
   "cell_type": "code",
   "execution_count": 148,
   "metadata": {},
   "outputs": [
    {
     "data": {
      "text/html": [
       "<div>\n",
       "<style scoped>\n",
       "    .dataframe tbody tr th:only-of-type {\n",
       "        vertical-align: middle;\n",
       "    }\n",
       "\n",
       "    .dataframe tbody tr th {\n",
       "        vertical-align: top;\n",
       "    }\n",
       "\n",
       "    .dataframe thead th {\n",
       "        text-align: right;\n",
       "    }\n",
       "</style>\n",
       "<table border=\"1\" class=\"dataframe\">\n",
       "  <thead>\n",
       "    <tr style=\"text-align: right;\">\n",
       "      <th></th>\n",
       "      <th>key2</th>\n",
       "      <th>data1</th>\n",
       "      <th>data2</th>\n",
       "    </tr>\n",
       "    <tr>\n",
       "      <th>key1</th>\n",
       "      <th></th>\n",
       "      <th></th>\n",
       "      <th></th>\n",
       "    </tr>\n",
       "  </thead>\n",
       "  <tbody>\n",
       "    <tr>\n",
       "      <th>A</th>\n",
       "      <td>onetwoone</td>\n",
       "      <td>8</td>\n",
       "      <td>80</td>\n",
       "    </tr>\n",
       "    <tr>\n",
       "      <th>B</th>\n",
       "      <td>onetwo</td>\n",
       "      <td>7</td>\n",
       "      <td>70</td>\n",
       "    </tr>\n",
       "  </tbody>\n",
       "</table>\n",
       "</div>"
      ],
      "text/plain": [
       "           key2  data1  data2\n",
       "key1                         \n",
       "A     onetwoone      8     80\n",
       "B        onetwo      7     70"
      ]
     },
     "execution_count": 148,
     "metadata": {},
     "output_type": "execute_result"
    }
   ],
   "source": [
    "data_groups.sum()"
   ]
  },
  {
   "cell_type": "code",
   "execution_count": 151,
   "metadata": {},
   "outputs": [
    {
     "data": {
      "text/plain": [
       "0    10\n",
       "1    20\n",
       "2    30\n",
       "3    40\n",
       "4    50\n",
       "Name: data2, dtype: int64"
      ]
     },
     "execution_count": 151,
     "metadata": {},
     "output_type": "execute_result"
    }
   ],
   "source": [
    "df2.data2"
   ]
  },
  {
   "cell_type": "code",
   "execution_count": null,
   "metadata": {},
   "outputs": [],
   "source": [
    "# df2.groupby(df2.key1).sum()\n",
    "df2.data2.groupby(df2.key1).sum()\n"
   ]
  },
  {
   "cell_type": "code",
   "execution_count": 155,
   "metadata": {},
   "outputs": [
    {
     "data": {
      "text/plain": [
       "key1\n",
       "A    8\n",
       "B    7\n",
       "Name: data1, dtype: int64"
      ]
     },
     "execution_count": 155,
     "metadata": {},
     "output_type": "execute_result"
    }
   ],
   "source": [
    "df2.groupby(df2.key1)['data1'].sum() "
   ]
  },
  {
   "cell_type": "code",
   "execution_count": 165,
   "metadata": {},
   "outputs": [
    {
     "data": {
      "text/plain": [
       "key1\n",
       "A    8\n",
       "B    7\n",
       "Name: data1, dtype: int64"
      ]
     },
     "execution_count": 165,
     "metadata": {},
     "output_type": "execute_result"
    }
   ],
   "source": [
    "df2.groupby(df2.key1).sum().data1"
   ]
  },
  {
   "cell_type": "markdown",
   "metadata": {},
   "source": [
    "#### 파이썬으로 다음 연산을 수행한다.\n",
    "\n",
    "key1의 값을 기준으로 data1의 값을 분류하여 합계를 구한 결과를 시리즈가 아닌 데이터프레임으로 구한다."
   ]
  },
  {
   "cell_type": "code",
   "execution_count": 166,
   "metadata": {},
   "outputs": [
    {
     "data": {
      "text/html": [
       "<div>\n",
       "<style scoped>\n",
       "    .dataframe tbody tr th:only-of-type {\n",
       "        vertical-align: middle;\n",
       "    }\n",
       "\n",
       "    .dataframe tbody tr th {\n",
       "        vertical-align: top;\n",
       "    }\n",
       "\n",
       "    .dataframe thead th {\n",
       "        text-align: right;\n",
       "    }\n",
       "</style>\n",
       "<table border=\"1\" class=\"dataframe\">\n",
       "  <thead>\n",
       "    <tr style=\"text-align: right;\">\n",
       "      <th></th>\n",
       "      <th>data1</th>\n",
       "      <th>data2</th>\n",
       "    </tr>\n",
       "    <tr>\n",
       "      <th>key1</th>\n",
       "      <th></th>\n",
       "      <th></th>\n",
       "    </tr>\n",
       "  </thead>\n",
       "  <tbody>\n",
       "    <tr>\n",
       "      <th>A</th>\n",
       "      <td>8</td>\n",
       "      <td>80</td>\n",
       "    </tr>\n",
       "    <tr>\n",
       "      <th>B</th>\n",
       "      <td>7</td>\n",
       "      <td>70</td>\n",
       "    </tr>\n",
       "  </tbody>\n",
       "</table>\n",
       "</div>"
      ],
      "text/plain": [
       "      data1  data2\n",
       "key1              \n",
       "A         8     80\n",
       "B         7     70"
      ]
     },
     "execution_count": 166,
     "metadata": {},
     "output_type": "execute_result"
    }
   ],
   "source": [
    "\n",
    "df2.groupby(df2.key1).sum(['data1'])\n",
    "\n",
    "\n"
   ]
  }
 ],
 "metadata": {
  "kernelspec": {
   "display_name": "Python 3",
   "language": "python",
   "name": "python3"
  },
  "language_info": {
   "codemirror_mode": {
    "name": "ipython",
    "version": 3
   },
   "file_extension": ".py",
   "mimetype": "text/x-python",
   "name": "python",
   "nbconvert_exporter": "python",
   "pygments_lexer": "ipython3",
   "version": "3.12.2"
  }
 },
 "nbformat": 4,
 "nbformat_minor": 2
}
