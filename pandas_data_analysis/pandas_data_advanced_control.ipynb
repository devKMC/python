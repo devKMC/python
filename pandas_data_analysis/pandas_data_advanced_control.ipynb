{
 "cells": [
  {
   "cell_type": "code",
   "execution_count": null,
   "metadata": {},
   "outputs": [],
   "source": [
    "import pandas as pd    # 데이터 조작 및 분석을 위한 라이브러리\n",
    "import numpy as np     # 데이터 과학과 ,수학계산에 핵심 라이브러리\n",
    "import seaborn         # 데이터 시각화 라이브러리"
   ]
  },
  {
   "cell_type": "markdown",
   "metadata": {},
   "source": [
    "### `merge` 함수를 통한 데이터프레임 병합  \n",
    "\n",
    "`merge()` 메서드로 공통 열 혹은 행을 기준으로 두 개의 데이터프레임을 병합 할 수 있음  \n",
    "병합의 기준이 되는 열 혹은 행을 `키(key)`라고 함\n",
    "\n",
    "기본적으로 `merge` 메서드는 **inner join** 형태를 가짐\n",
    "**outer(full), left, right join** 형태로 변경하고자 한다면 `how` 인수에 조인 방식을 지정함 \n",
    "\n",
    "`merge()` 메서드로 병합을 하려 한다면 동일한 이름의 열 또는 행이 존재해야함"
   ]
  },
  {
   "cell_type": "code",
   "execution_count": null,
   "metadata": {},
   "outputs": [],
   "source": [
    "df1 = pd.DataFrame({\n",
    "    '고객번호': [1001, 1002, 1003, 1004, 1005, 1006, 1007],\n",
    "    '이름': ['둘리', '도우너', '또치', '길동', '희동', '마이콜', '영희']\n",
    "}, columns=['고객번호', '이름'])\n",
    "df1"
   ]
  },
  {
   "cell_type": "code",
   "execution_count": null,
   "metadata": {},
   "outputs": [],
   "source": [
    "df2 = pd.DataFrame(\n",
    "    {\n",
    "        '고객번호' :[1001,1001,1005,1006,1008,1001],\n",
    "        '금액' : [10000,20000,15000,5000,10000,30000]\n",
    "    },  columns = ['고객번호','금액'])\n",
    "\n",
    "df2\n"
   ]
  },
  {
   "cell_type": "code",
   "execution_count": null,
   "metadata": {},
   "outputs": [],
   "source": [
    "pd.merge(df1,df2)"
   ]
  },
  {
   "cell_type": "code",
   "execution_count": null,
   "metadata": {},
   "outputs": [],
   "source": [
    "# full 의미로 좌측과 우측테이블을 모두 보여주고 없는 부분은 NaN 표시\n",
    "pd.merge(df1,df2,how='outer')"
   ]
  },
  {
   "cell_type": "code",
   "execution_count": null,
   "metadata": {},
   "outputs": [],
   "source": [
    "#좌측에대해서 존재하는것(컬럼)만 보여주고 나머지는 NaN으로 표시\n",
    "pd.merge(df1,df2,how='left')"
   ]
  },
  {
   "cell_type": "code",
   "execution_count": null,
   "metadata": {},
   "outputs": [],
   "source": [
    "#우측에대해서는 존재하는것(컬럼)만 보여주고 나머지는 NaN으로 표시\n",
    "pd.merge(df1,df2,how='right')"
   ]
  },
  {
   "cell_type": "markdown",
   "metadata": {},
   "source": [
    "만약 키 값에 동일한 데이터가 여러개 존재한다면 모든 경우의 수를 표현함"
   ]
  },
  {
   "cell_type": "code",
   "execution_count": null,
   "metadata": {},
   "outputs": [],
   "source": [
    "df3 = pd.DataFrame({\n",
    "    '품종' :['튤립','튤립','장미','장미'],\n",
    "    '꽃잎길이' :['1.4','1.3','1.5','1.3']\n",
    "})\n",
    "\n",
    "df3"
   ]
  },
  {
   "cell_type": "code",
   "execution_count": null,
   "metadata": {},
   "outputs": [],
   "source": [
    "df4 = pd.DataFrame({\n",
    "    '품종' :['튤립','장미','장미','무궁화'],\n",
    "    '꽃잎넓이' :['0.4','0.3','0.5','0.3']\n",
    "})\n",
    "\n",
    "df4\n"
   ]
  },
  {
   "cell_type": "code",
   "execution_count": null,
   "metadata": {},
   "outputs": [],
   "source": [
    "# 모든 경우의 수  튤립 2 x1 , 장미 2x2\n",
    "pd.merge(df3,df4)"
   ]
  },
  {
   "cell_type": "code",
   "execution_count": null,
   "metadata": {},
   "outputs": [],
   "source": [
    "# 똑같은 형태에서 없는것만 추가됨\n",
    "pd.merge(df3,df4,how='outer')"
   ]
  }
 ],
 "metadata": {
  "kernelspec": {
   "display_name": "Python 3",
   "language": "python",
   "name": "python3"
  },
  "language_info": {
   "codemirror_mode": {
    "name": "ipython",
    "version": 3
   },
   "file_extension": ".py",
   "mimetype": "text/x-python",
   "name": "python",
   "nbconvert_exporter": "python",
   "pygments_lexer": "ipython3",
   "version": "3.12.2"
  }
 },
 "nbformat": 4,
 "nbformat_minor": 2
}
