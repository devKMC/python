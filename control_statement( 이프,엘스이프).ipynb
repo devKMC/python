{
 "cells": [
  {
   "cell_type": "code",
   "execution_count": null,
   "metadata": {},
   "outputs": [],
   "source": [
    "# 조건문\n",
    "# if 조건문\n",
    "# if 조건:\n",
    "#    실행문    (공백수 신경쓰기)"
   ]
  },
  {
   "cell_type": "code",
   "execution_count": 6,
   "metadata": {},
   "outputs": [
    {
     "name": "stdout",
     "output_type": "stream",
     "text": [
      "짝수\n",
      "짝수\n"
     ]
    }
   ],
   "source": [
    "number = 123456\n",
    "# : 이후에 새로운 코드 블럭이 생기면 라인 첫 공백을 모두 같게 해야함\n",
    "if number % 2 == 0:\n",
    "    print('짝수')\n",
    "    print('짝수')"
   ]
  },
  {
   "cell_type": "code",
   "execution_count": null,
   "metadata": {},
   "outputs": [],
   "source": [
    "# else \n",
    "# else:\n",
    "# 실행문"
   ]
  },
  {
   "cell_type": "code",
   "execution_count": 8,
   "metadata": {},
   "outputs": [
    {
     "name": "stdout",
     "output_type": "stream",
     "text": [
      "홀수\n"
     ]
    }
   ],
   "source": [
    "if number %2 == 1:\n",
    "    print('짝수')\n",
    "else:\n",
    "    print('홀수')"
   ]
  },
  {
   "cell_type": "code",
   "execution_count": null,
   "metadata": {},
   "outputs": [],
   "source": [
    "# 윤년\n",
    "# 4202년이 윤년인지 아닌지 판별하는 조건문을 작성하시오.\n",
    "# 윤년이면 \"윤년입니다\"를 출력하고 아니라면 \" 윤년이 아닙니다\"라고 출력\n",
    "#4로나누어 윤년 , 100으로 나누어 평년 , 400으로 나누어 윤년"
   ]
  },
  {
   "cell_type": "code",
   "execution_count": 37,
   "metadata": {},
   "outputs": [
    {
     "name": "stdout",
     "output_type": "stream",
     "text": [
      "윤년\n"
     ]
    }
   ],
   "source": [
    "year = 2000\n",
    "# if year % 4 == 0 & year % 100 != 0 & year % 400 == 0:\n",
    "# or and / | & 우선순위로인해 값이 다르게 나올 수 있다.\n",
    "if (year % 400 == 0) or (year % 100 != 0 and year % 4 ==0): \n",
    "    print(\"윤년\") \n",
    "else:\n",
    "    print(\"윤년이 아닙니다\")"
   ]
  },
  {
   "cell_type": "code",
   "execution_count": 23,
   "metadata": {},
   "outputs": [
    {
     "name": "stdout",
     "output_type": "stream",
     "text": [
      "윤년이 아닙니다.\n"
     ]
    }
   ],
   "source": [
    "year = 4202\n",
    "\n",
    "# 삼항 조건 연산자를 사용하여 표현\n",
    "\n",
    "result = \"윤년입니다.\" if (year % 4 == 0 and year % 100 != 0) or (year % 400 == 0) else \"윤년이 아닙니다.\"\n",
    "print(result)\n",
    "\n",
    "#year % 4 == 0 and year % 100 != 0는 먼저 주어진 년도가 4로 나누어 떨어지면서 동시에 100으로 나누어 떨어지지 않는지를 확인하여 윤년\n",
    "\n",
    "#혹은 year % 400 == 0 조건은 400으로 나누어 떨어지는 경우입니다. 이 두 가지 조건 중 어느 하나라도 참이면 해당 년도는 윤년\n",
    "\n",
    "#따라서, 조건식이 참이면 윤년입니다. 거짓이면 \"윤년이 아닙니다.\"를 출력\n",
    "\n"
   ]
  },
  {
   "cell_type": "code",
   "execution_count": 27,
   "metadata": {},
   "outputs": [
    {
     "name": "stdout",
     "output_type": "stream",
     "text": [
      "윤년이 아닙니다\n"
     ]
    }
   ],
   "source": [
    "year = 4202\n",
    "if year % 400 == 0:\n",
    "    print(\"윤년입니다\")\n",
    "elif year % 100 == 0:\n",
    "    print(\"윤년이 아닙니다\")\n",
    "elif year % 4 == 0:\n",
    "    print(\"윤년입니다\")\n",
    "else:\n",
    "    print(\"윤년이 아닙니다\")\n",
    "\n",
    "    "
   ]
  },
  {
   "cell_type": "code",
   "execution_count": 28,
   "metadata": {},
   "outputs": [
    {
     "ename": "ValueError",
     "evalue": "invalid literal for int() with base 10: ''",
     "output_type": "error",
     "traceback": [
      "\u001b[1;31m---------------------------------------------------------------------------\u001b[0m",
      "\u001b[1;31mValueError\u001b[0m                                Traceback (most recent call last)",
      "Cell \u001b[1;32mIn[28], line 1\u001b[0m\n\u001b[1;32m----> 1\u001b[0m year \u001b[38;5;241m=\u001b[39m \u001b[38;5;28;43mint\u001b[39;49m\u001b[43m(\u001b[49m\u001b[38;5;28;43minput\u001b[39;49m\u001b[43m(\u001b[49m\u001b[38;5;124;43m'\u001b[39;49m\u001b[38;5;124;43m연도를 입력하세요:\u001b[39;49m\u001b[38;5;124;43m'\u001b[39;49m\u001b[43m)\u001b[49m\u001b[43m)\u001b[49m\n\u001b[0;32m      2\u001b[0m \u001b[38;5;28;01mif\u001b[39;00m year \u001b[38;5;241m%\u001b[39m \u001b[38;5;241m400\u001b[39m \u001b[38;5;241m==\u001b[39m \u001b[38;5;241m0\u001b[39m:\n\u001b[0;32m      3\u001b[0m     \u001b[38;5;28mprint\u001b[39m (\u001b[38;5;124m'\u001b[39m\u001b[38;5;124m윤년이 아닙니다.\u001b[39m\u001b[38;5;124m'\u001b[39m)\n",
      "\u001b[1;31mValueError\u001b[0m: invalid literal for int() with base 10: ''"
     ]
    }
   ],
   "source": [
    "year = int(input('연도를 입력하세요:'))\n",
    "if year % 400 == 0:\n",
    "    print ('윤년이 아닙니다.')\n",
    "else:\n",
    "    if year % 4 == 0:\n",
    "        if year % 100 != 0:\n",
    "            print ('윤년입니다')\n",
    "        else:\n",
    "         print('윤년이 아닙니다.')\n",
    "    else:\n",
    "        print('윤년이 아닙니다')\n",
    "       "
   ]
  },
  {
   "cell_type": "code",
   "execution_count": 38,
   "metadata": {},
   "outputs": [
    {
     "data": {
      "text/plain": [
       "True"
      ]
     },
     "execution_count": 38,
     "metadata": {},
     "output_type": "execute_result"
    }
   ],
   "source": [
    "# elif (else if) : 상위의 조건들이 false이면서 elif의 조건이 true이면 실행\n",
    "# elif 조건 : \n",
    "   # 실행문"
   ]
  },
  {
   "cell_type": "code",
   "execution_count": 42,
   "metadata": {},
   "outputs": [
    {
     "name": "stdout",
     "output_type": "stream",
     "text": [
      "C\n"
     ]
    }
   ],
   "source": [
    "score = 80\n",
    "if score > 90:\n",
    "    print ('A')\n",
    "elif score > 80:\n",
    "    print ('B')\n",
    "elif score > 70:\n",
    "    print ('C')\n",
    "elif score > 60:\n",
    "    print ('D')\n",
    "else:\n",
    "    print ('F')"
   ]
  },
  {
   "cell_type": "code",
   "execution_count": 43,
   "metadata": {},
   "outputs": [],
   "source": [
    "# 수박 등급 구하기 \n",
    "# 1등급 10kg 이상\n",
    "# 2등급 7kg 이상\n",
    "# 3등급 4kg 이상\n",
    "# 4등급 나머지"
   ]
  },
  {
   "cell_type": "code",
   "execution_count": 44,
   "metadata": {},
   "outputs": [
    {
     "name": "stdout",
     "output_type": "stream",
     "text": [
      "3등급\n"
     ]
    }
   ],
   "source": [
    "water_melon = 6\n",
    "if water_melon > 10:\n",
    "    print('1등급')\n",
    "elif water_melon > 7:\n",
    "    print('2등급')\n",
    "elif water_melon > 4:\n",
    "    print('3등급')\n",
    "else:    \n",
    "    print('4등급')"
   ]
  },
  {
   "cell_type": "code",
   "execution_count": null,
   "metadata": {},
   "outputs": [],
   "source": [
    "# 중첩 if\n",
    "# if문 안에 if 문 작성 (들여쓰기(띄어쓰기) 조심하기)"
   ]
  },
  {
   "cell_type": "code",
   "execution_count": null,
   "metadata": {},
   "outputs": [],
   "source": [
    "# 남자는 10번이상 팔굽혀펴기시 합격 아니면 불합격\n",
    "# 여자는 5번이상을 해야 합격  아니면 불합격"
   ]
  },
  {
   "cell_type": "code",
   "execution_count": 54,
   "metadata": {},
   "outputs": [
    {
     "name": "stdout",
     "output_type": "stream",
     "text": [
      "불합격\n"
     ]
    }
   ],
   "source": [
    "# 남자이면서 10번이상 합격 나머진 불합격\n",
    "# 여자이면서 5번이상 합격 나머진 불합격\n",
    "gender = '남성'\n",
    "count =7\n",
    "\n",
    "if  (gender=='남자'and count>= 10) or (gender=='여자' and count >= 5  ) :\n",
    "    print (\"합격\")\n",
    "else:\n",
    "    print('불합격')"
   ]
  },
  {
   "cell_type": "code",
   "execution_count": 49,
   "metadata": {},
   "outputs": [
    {
     "name": "stdout",
     "output_type": "stream",
     "text": [
      "합격\n"
     ]
    }
   ],
   "source": [
    "gender = '여자'\n",
    "count = 6\n",
    "\n",
    "\n",
    "if gender == '남자':\n",
    "    #남자일때\n",
    "    if count >= 10:\n",
    "        print('합격')\n",
    "    else:\n",
    "        print('불합격')\n",
    "else:\n",
    "    #여자일때\n",
    "    if count >= 5:\n",
    "        print('합격')\n",
    "    else:\n",
    "        print('불합격')    "
   ]
  },
  {
   "cell_type": "code",
   "execution_count": 55,
   "metadata": {},
   "outputs": [],
   "source": [
    "# .콘솔창에서 바로 입력받기\n",
    "# a = input('입력:')\n",
    "# print(a)"
   ]
  },
  {
   "cell_type": "code",
   "execution_count": 7,
   "metadata": {},
   "outputs": [
    {
     "name": "stdout",
     "output_type": "stream",
     "text": [
      "자백하지 않아 1년을 복역함.\n"
     ]
    }
   ],
   "source": [
    "#수의 딜레마 파이썬으로 해보기\n",
    "#사용된 def는 파이썬에서 함수를 정의하는 키워드입니다. def 키워드는 함수를 정의하고 함수의 이름을 지정하는데 사용됩니다.\n",
    "def murder(XA, XB):\n",
    "    if XA and XB:\n",
    "        print(\"둘 다 자백하여 5년을 복역함.\")\n",
    "        return 5, 5\n",
    "       \n",
    "    elif XA:\n",
    "        print(\"XA가 자백하여 10년을 복역하고, XB는 풀려납니다.\")\n",
    "        return 10, 0\n",
    "    \n",
    "    elif XB:\n",
    "        print(\"XB가 자백하여 10년을 복역하고, XA는 풀려납니다.\")\n",
    "        return 0, 10\n",
    "    \n",
    "    else:\n",
    "        print(\"자백하지 않아 1년을 복역함.\")\n",
    "        return 1, 1\n",
    "\n",
    "# 살인자 1 , 살인자 2\n",
    "XA = False \n",
    "XB = False\n",
    "\n",
    "# 복역 결과\n",
    "YA, YB = murder(XA, XB)"
   ]
  },
  {
   "cell_type": "code",
   "execution_count": 32,
   "metadata": {},
   "outputs": [],
   "source": [
    "if XA and XB:\n",
    "    YA= 5\n",
    "    YB= 5\n",
    "elif XA and not XB:\n",
    " YA = 0\n",
    " YB = 10\n",
    "elif not XA and XB:\n",
    "   YA = 10\n",
    "   YB = 0\n",
    "else:\n",
    "   YA = 1\n",
    "   YB = 1\n",
    "\n",
    "XA = True\n",
    "XY = True\n",
    "\n"
   ]
  },
  {
   "cell_type": "code",
   "execution_count": null,
   "metadata": {},
   "outputs": [],
   "source": []
  }
 ],
 "metadata": {
  "kernelspec": {
   "display_name": "Python 3",
   "language": "python",
   "name": "python3"
  },
  "language_info": {
   "codemirror_mode": {
    "name": "ipython",
    "version": 3
   },
   "file_extension": ".py",
   "mimetype": "text/x-python",
   "name": "python",
   "nbconvert_exporter": "python",
   "pygments_lexer": "ipython3",
   "version": "3.12.2"
  }
 },
 "nbformat": 4,
 "nbformat_minor": 2
}
