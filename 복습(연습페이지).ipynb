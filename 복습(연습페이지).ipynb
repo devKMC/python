{
 "cells": [
  {
   "cell_type": "code",
   "execution_count": 3,
   "metadata": {},
   "outputs": [],
   "source": [
    "\n",
    "import numpy as np  \n",
    "import pandas as pd\n",
    "import seaborn"
   ]
  },
  {
   "cell_type": "code",
   "execution_count": 25,
   "metadata": {},
   "outputs": [],
   "source": [
    "number = 123456789\n"
   ]
  },
  {
   "cell_type": "code",
   "execution_count": 33,
   "metadata": {},
   "outputs": [
    {
     "name": "stdout",
     "output_type": "stream",
     "text": [
      "     *\n",
      "    ***\n",
      "   *****\n",
      "  *******\n",
      " *********\n",
      "***********\n",
      " *********\n",
      "  *******\n",
      "   *****\n",
      "    ***\n",
      "     *\n"
     ]
    }
   ],
   "source": [
    "for count in range(1,12):\n",
    "   \n",
    "    if  count <= 6: \n",
    "        print(\" \" * (6-count)+ \"*\" * (count * 2-1))\n",
    "    \n",
    "    else:\n",
    "        \n",
    "        print(\" \" * (count-6)+ \"*\" * ((12-count) * 2-1))\n"
   ]
  },
  {
   "cell_type": "code",
   "execution_count": 50,
   "metadata": {},
   "outputs": [
    {
     "name": "stdout",
     "output_type": "stream",
     "text": [
      "0 1 2 3 \n",
      "1 2 3 4 \n",
      "2 3 4 5 \n",
      "3 4 5 6 \n"
     ]
    }
   ],
   "source": [
    "for i in range(4):\n",
    "    for j in range(4):\n",
    "     print(i+j ,end=' ')\n",
    "    print()"
   ]
  },
  {
   "cell_type": "markdown",
   "metadata": {},
   "source": [
    "#### 파이썬으로 다음 연산을 수행한다\n",
    "다음 행렬과 같은 배열이 있다.\n",
    "\n",
    "```\n",
    "x = np.array([1, 2, 3, 4, 5, 6, 7, 8, 9, 10,\n",
    "             11, 12, 13, 14, 15, 16, 17, 18, 19, 20])\n",
    "```\n",
    "\n",
    "1. 이 배열에서 3의 배수를 찾아라.\n",
    "2. 이 배열에서 4로 나누면 1이 남는 수를 찾아라.\n",
    "3. 이 배열에서 3으로 나누면 나누어지고 4로 나누면 1이 남는 수를 찾아라."
   ]
  },
  {
   "cell_type": "code",
   "execution_count": 4,
   "metadata": {},
   "outputs": [
    {
     "name": "stdout",
     "output_type": "stream",
     "text": [
      "              A          B\n",
      "count  5.000000   5.000000\n",
      "mean   3.000000  30.000000\n",
      "std    1.581139  15.811388\n",
      "min    1.000000  10.000000\n",
      "25%    2.000000  20.000000\n",
      "50%    3.000000  30.000000\n",
      "75%    4.000000  40.000000\n",
      "max    5.000000  50.000000\n",
      "   A   B\n",
      "2  3  30\n",
      "3  4  40\n",
      "4  5  50\n"
     ]
    }
   ],
   "source": [
    "\n",
    "# 데이터프레임 생성\n",
    "data = {'A': [1, 2, 3, 4, 5],\n",
    "        'B': [10, 20, 30, 40, 50]}\n",
    "df = pd.DataFrame(data)\n",
    "\n",
    "# 데이터프레임에서 통계적 요약 보기\n",
    "print(df.describe())\n",
    "\n",
    "# 데이터프레임에서 조건에 맞는 행 선택\n",
    "print(df[df['A'] > 2])\n",
    "\n"
   ]
  },
  {
   "cell_type": "code",
   "execution_count": 6,
   "metadata": {},
   "outputs": [
    {
     "name": "stdout",
     "output_type": "stream",
     "text": [
      "      Name Age Score\n",
      "0    Alice  25    85\n",
      "1      Bob  30    90\n",
      "2  Charlie  35    88\n",
      "3    David  40    92\n",
      "4    Emily  45    87\n"
     ]
    }
   ],
   "source": [
    "# 데이터 생성\n",
    "names = np.array(['Alice', 'Bob', 'Charlie', 'David', 'Emily'])\n",
    "ages = np.array([25, 30, 35, 40, 45])\n",
    "scores = np.array([85, 90, 88, 92, 87])\n",
    "\n",
    "# 넘파이 배열을 열로 변환하여 2차원 배열로 만들기\n",
    "data_np = np.column_stack((names, ages, scores))\n",
    "\n",
    "# DataFrame 생성\n",
    "columns = ['Name', 'Age', 'Score']\n",
    "df_np = pd.DataFrame(data_np, columns=columns)\n",
    "print(df_np)"
   ]
  },
  {
   "cell_type": "code",
   "execution_count": 7,
   "metadata": {},
   "outputs": [
    {
     "name": "stdout",
     "output_type": "stream",
     "text": [
      "      Name Age Score\n",
      "0    Alice  25    85\n",
      "1      Bob  30    90\n",
      "2  Charlie  35    88\n",
      "3    David  40    92\n",
      "4    Emily  45    87\n"
     ]
    }
   ],
   "source": [
    "# 데이터 생성\n",
    "names = np.array(['Alice', 'Bob', 'Charlie', 'David', 'Emily'])\n",
    "ages = np.array([25, 30, 35, 40, 45])\n",
    "scores = np.array([85, 90, 88, 92, 87])\n",
    "\n",
    "# 넘파이 배열을 열로 변환하여 2차원 배열로 만들기\n",
    "data_np = np.column_stack((names, ages, scores))\n",
    "\n",
    "# DataFrame 생성\n",
    "columns = ['Name', 'Age', 'Score']\n",
    "df_np = pd.DataFrame(data_np, columns=columns)\n",
    "print(df_np)"
   ]
  },
  {
   "cell_type": "code",
   "execution_count": 9,
   "metadata": {},
   "outputs": [
    {
     "name": "stdout",
     "output_type": "stream",
     "text": [
      "      Name  Age  Score\n",
      "1      Bob   30     90\n",
      "2  Charlie   35     88\n",
      "3    David   40     92\n",
      "4    Emily   45     87\n",
      "    Name  Age  Score\n",
      "3  David   40     92\n"
     ]
    }
   ],
   "source": [
    "# 나이가 30 이상인 사람들만 선택\n",
    "df_filtered = df[df['Age'] >= 30]\n",
    "print(df_filtered)\n",
    "\n",
    "# 점수가 90보다 큰 사람들만 선택\n",
    "df_high_score = df[df['Score'] > 90]\n",
    "print(df_high_score)"
   ]
  },
  {
   "cell_type": "code",
   "execution_count": 10,
   "metadata": {},
   "outputs": [
    {
     "name": "stdout",
     "output_type": "stream",
     "text": [
      "Age\n",
      "25    85.0\n",
      "30    90.0\n",
      "35    88.0\n",
      "40    92.0\n",
      "45    87.0\n",
      "Name: Score, dtype: float64\n"
     ]
    }
   ],
   "source": [
    "# 나이대별 평균 점수 계산\n",
    "age_group_avg_score = df.groupby('Age')['Score'].mean()\n",
    "print(age_group_avg_score)\n"
   ]
  },
  {
   "cell_type": "code",
   "execution_count": 13,
   "metadata": {},
   "outputs": [
    {
     "name": "stdout",
     "output_type": "stream",
     "text": [
      "Average Score: 88.4\n"
     ]
    }
   ],
   "source": [
    "\n",
    "# 점수 컬럼을 NumPy 배열로 변환하여 평균 계산\n",
    "scores = df['Score'].values\n",
    "average_score = np.mean(scores)\n",
    "print(\"Average Score:\", average_score)\n"
   ]
  },
  {
   "cell_type": "code",
   "execution_count": 10,
   "metadata": {},
   "outputs": [
    {
     "data": {
      "text/plain": [
       "d    1\n",
       "w    2\n",
       "q    3\n",
       "dtype: int64"
      ]
     },
     "execution_count": 10,
     "metadata": {},
     "output_type": "execute_result"
    }
   ],
   "source": [
    "s =pd.Series([1,2,3], index =['d','w','q'])\n",
    "\n",
    "s"
   ]
  },
  {
   "cell_type": "markdown",
   "metadata": {},
   "source": [
    "\n",
    " **파이썬으로 다음 연산을 수행한다.**\n",
    "판다스 그룹바이 통계 분석\n",
    "1. 팁의 비율이 요일과 점심/저녁 여부, 인원수에 어떤 영향을 받는지 살펴본다. day time size\n",
    "2. 어떤 요인이 가장 크게 작용하는지 판단할 수 있는 방법이 있는가?\n"
   ]
  },
  {
   "cell_type": "code",
   "execution_count": 6,
   "metadata": {},
   "outputs": [
    {
     "data": {
      "text/html": [
       "<div>\n",
       "<style scoped>\n",
       "    .dataframe tbody tr th:only-of-type {\n",
       "        vertical-align: middle;\n",
       "    }\n",
       "\n",
       "    .dataframe tbody tr th {\n",
       "        vertical-align: top;\n",
       "    }\n",
       "\n",
       "    .dataframe thead th {\n",
       "        text-align: right;\n",
       "    }\n",
       "</style>\n",
       "<table border=\"1\" class=\"dataframe\">\n",
       "  <thead>\n",
       "    <tr style=\"text-align: right;\">\n",
       "      <th></th>\n",
       "      <th>total_bill</th>\n",
       "      <th>tip</th>\n",
       "      <th>sex</th>\n",
       "      <th>smoker</th>\n",
       "      <th>day</th>\n",
       "      <th>time</th>\n",
       "      <th>size</th>\n",
       "    </tr>\n",
       "  </thead>\n",
       "  <tbody>\n",
       "    <tr>\n",
       "      <th>0</th>\n",
       "      <td>16.99</td>\n",
       "      <td>1.01</td>\n",
       "      <td>Female</td>\n",
       "      <td>No</td>\n",
       "      <td>Sun</td>\n",
       "      <td>Dinner</td>\n",
       "      <td>2</td>\n",
       "    </tr>\n",
       "    <tr>\n",
       "      <th>1</th>\n",
       "      <td>10.34</td>\n",
       "      <td>1.66</td>\n",
       "      <td>Male</td>\n",
       "      <td>No</td>\n",
       "      <td>Sun</td>\n",
       "      <td>Dinner</td>\n",
       "      <td>3</td>\n",
       "    </tr>\n",
       "    <tr>\n",
       "      <th>2</th>\n",
       "      <td>21.01</td>\n",
       "      <td>3.50</td>\n",
       "      <td>Male</td>\n",
       "      <td>No</td>\n",
       "      <td>Sun</td>\n",
       "      <td>Dinner</td>\n",
       "      <td>3</td>\n",
       "    </tr>\n",
       "    <tr>\n",
       "      <th>3</th>\n",
       "      <td>23.68</td>\n",
       "      <td>3.31</td>\n",
       "      <td>Male</td>\n",
       "      <td>No</td>\n",
       "      <td>Sun</td>\n",
       "      <td>Dinner</td>\n",
       "      <td>2</td>\n",
       "    </tr>\n",
       "    <tr>\n",
       "      <th>4</th>\n",
       "      <td>24.59</td>\n",
       "      <td>3.61</td>\n",
       "      <td>Female</td>\n",
       "      <td>No</td>\n",
       "      <td>Sun</td>\n",
       "      <td>Dinner</td>\n",
       "      <td>4</td>\n",
       "    </tr>\n",
       "  </tbody>\n",
       "</table>\n",
       "</div>"
      ],
      "text/plain": [
       "   total_bill   tip     sex smoker  day    time  size\n",
       "0       16.99  1.01  Female     No  Sun  Dinner     2\n",
       "1       10.34  1.66    Male     No  Sun  Dinner     3\n",
       "2       21.01  3.50    Male     No  Sun  Dinner     3\n",
       "3       23.68  3.31    Male     No  Sun  Dinner     2\n",
       "4       24.59  3.61  Female     No  Sun  Dinner     4"
      ]
     },
     "execution_count": 6,
     "metadata": {},
     "output_type": "execute_result"
    }
   ],
   "source": [
    "tips = seaborn.load_dataset('tips')\n",
    "tips.head()"
   ]
  },
  {
   "cell_type": "code",
   "execution_count": null,
   "metadata": {},
   "outputs": [],
   "source": [
    "tips['tip_pct'] = tips.tip / tips.total_bill\n",
    "tips"
   ]
  },
  {
   "cell_type": "code",
   "execution_count": null,
   "metadata": {},
   "outputs": [],
   "source": [
    "tips.describe()"
   ]
  },
  {
   "cell_type": "code",
   "execution_count": 30,
   "metadata": {},
   "outputs": [
    {
     "name": "stderr",
     "output_type": "stream",
     "text": [
      "C:\\Users\\ITPS\\AppData\\Local\\Temp\\ipykernel_9152\\3394154496.py:1: FutureWarning: The default of observed=False is deprecated and will be changed to True in a future version of pandas. Pass observed=False to retain current behavior or observed=True to adopt the future default and silence this warning.\n",
      "  tips.groupby(['day','time']).size()\n"
     ]
    },
    {
     "data": {
      "text/plain": [
       "day   time  \n",
       "Thur  Lunch     61\n",
       "      Dinner     1\n",
       "Fri   Lunch      7\n",
       "      Dinner    12\n",
       "Sat   Lunch      0\n",
       "      Dinner    87\n",
       "Sun   Lunch      0\n",
       "      Dinner    76\n",
       "dtype: int64"
      ]
     },
     "execution_count": 30,
     "metadata": {},
     "output_type": "execute_result"
    }
   ],
   "source": [
    "tips.groupby(['day','time']).size()"
   ]
  }
 ],
 "metadata": {
  "kernelspec": {
   "display_name": "Python 3",
   "language": "python",
   "name": "python3"
  },
  "language_info": {
   "codemirror_mode": {
    "name": "ipython",
    "version": 3
   },
   "file_extension": ".py",
   "mimetype": "text/x-python",
   "name": "python",
   "nbconvert_exporter": "python",
   "pygments_lexer": "ipython3",
   "version": "3.12.2"
  }
 },
 "nbformat": 4,
 "nbformat_minor": 2
}
