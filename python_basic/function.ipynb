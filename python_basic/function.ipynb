{
 "cells": [
  {
   "cell_type": "code",
   "execution_count": null,
   "metadata": {},
   "outputs": [],
   "source": [
    "# 함수 : 실행할 코드를 미리 지정해 두는 것\n",
    "# def 함수명 (매개변수[,....]):\n",
    "#     실행문\n",
    "#     return 결과"
   ]
  },
  {
   "cell_type": "code",
   "execution_count": 7,
   "metadata": {},
   "outputs": [
    {
     "data": {
      "text/plain": [
       "'짝수'"
      ]
     },
     "execution_count": 7,
     "metadata": {},
     "output_type": "execute_result"
    }
   ],
   "source": [
    "\n",
    "# 1.     짝수가 입력되면 짝수라는 문자열을, 홀수가 입력되면 홀수라는 문자열을 반환하는 함수를 만든다.\n",
    "# 2.     윤년을 나타나는 수가 입력되면 윤년이라는 문자열을, 그렇지 않은 수가 입력되면 평년이라는 문자열을 반환하는 함수를 만든다.\n",
    "\n",
    "def check(number):\n",
    "    # 삼항 연산자\n",
    "    # 다른언어 - 조건 ? true : false \n",
    "    # 파이썬   = (true 일때) if 조건 else (false일 때)\n",
    "    result = '짝수' if number % 2 == 0  else '홀수'\n",
    "    return result\n",
    "\n",
    "\n",
    "check (6)"
   ]
  },
  {
   "cell_type": "code",
   "execution_count": 12,
   "metadata": {},
   "outputs": [
    {
     "data": {
      "text/plain": [
       "30"
      ]
     },
     "execution_count": 12,
     "metadata": {},
     "output_type": "execute_result"
    }
   ],
   "source": [
    "#  1, 3, 5, 7, 8, 10, 12 월은 31일, 4, 6, 9, 11월은 30일, 2월은 28일이다.\n",
    "# 월을 나타내는 숫자를 입력하면 그 달의 날짜 수를 반환하는 함수 days1 를 만든다. 사용 예는 다음과 같다.\n",
    "\n",
    "def days1(month):\n",
    "    result = 28\n",
    "\n",
    "    if month == 1 or month == 3 or month == 5 or month == 7 or month == 8 or month == 10 or month == 12:\n",
    "        result = 31\n",
    "\n",
    "    elif month == 4 or month == 6 or month == 9 or month == 11:\n",
    "        result = 30\n",
    "\n",
    "    return result\n",
    "\n",
    "\n",
    "\n",
    "  \n",
    "days1(11)\n"
   ]
  },
  {
   "cell_type": "code",
   "execution_count": 16,
   "metadata": {},
   "outputs": [
    {
     "name": "stdout",
     "output_type": "stream",
     "text": [
      "1,2\n",
      "(1, 2)\n"
     ]
    }
   ],
   "source": [
    "# 파이썬의 함수는 return 으로 여러 개의 결과를 반환\n",
    "\n",
    "# def 함수명 (매개변수,[,....]):\n",
    "# return 반환값 1, 반환값 2\n",
    "\n",
    "#변수 = 함수명 (매개변수)\n",
    "# 변수 1, 변수 2 = 함수명 (매개변수)\n",
    "\n",
    "def function1() :\n",
    "    return 1,2\n",
    "\n",
    "x,y =  function1()\n",
    "print (f'{x},{y}')\n",
    "\n",
    "z =  function1()\n",
    "print (f'{z}')"
   ]
  },
  {
   "cell_type": "code",
   "execution_count": 17,
   "metadata": {},
   "outputs": [],
   "source": [
    "# 연도를 나타내는 숫자와 월을 나타내는 숫자를 입력하면 그 연도가 윤년인지 아닌지 값과\n",
    "# 달의 날짜수를 반환하는 함수 day2\n",
    "\n",
    "\n"
   ]
  },
  {
   "cell_type": "code",
   "execution_count": 23,
   "metadata": {},
   "outputs": [
    {
     "data": {
      "text/plain": [
       "('윤년', 29)"
      ]
     },
     "execution_count": 23,
     "metadata": {},
     "output_type": "execute_result"
    }
   ],
   "source": [
    "def days2 (year,month):\n",
    "    LeapYear = '평년'\n",
    "    lastDay = 28\n",
    "    if year % 400 == 0 or (year % 100 !=0 and year % 4 == 0):\n",
    "        LeapYear = '윤년'\n",
    "    if month == 1 or month == 3 or month == 5 or month == 7 or month == 8 or month == 10 or month == 12 :\n",
    "        lastDay = 31\n",
    "    elif month == 4 or month == 6 or month == 9 or month == 11:\n",
    "        lastDay = 30\n",
    "    else:\n",
    "        if LeapYear == '윤년':\n",
    "            lastDay = 29\n",
    "        else:\n",
    "            lastDay = 28\n",
    "\n",
    "    return LeapYear, lastDay\n",
    "\n",
    "days2(2020, 2)\n"
   ]
  },
  {
   "cell_type": "code",
   "execution_count": 28,
   "metadata": {},
   "outputs": [
    {
     "data": {
      "text/plain": [
       "10"
      ]
     },
     "execution_count": 28,
     "metadata": {},
     "output_type": "execute_result"
    }
   ],
   "source": [
    "# 람다 함수\n",
    "# 이름이 선언하는 함수, 함수를 변수에 담아서 사용할 수 있도록 해주는 것\n",
    "# 변수 = lambda 매개변수[,...]:\n",
    "#   실행코드 \n",
    "# 파이썬에서 람다함수는 실행 코드를 여러줄 작성할  수 없음\n",
    "\n",
    "\n",
    "fun2 = lambda x: 2 * x \n",
    "\n",
    "def f2 (x):\n",
    "    return 2 * x\n",
    "\n",
    "fun2 (5)\n",
    "\n"
   ]
  },
  {
   "cell_type": "code",
   "execution_count": 30,
   "metadata": {},
   "outputs": [],
   "source": [
    "\n",
    "local_variable = 100\n"
   ]
  },
  {
   "cell_type": "code",
   "execution_count": 31,
   "metadata": {},
   "outputs": [],
   "source": [
    "# 지역변수 전역변수\n",
    "# 지역변수로 선언된 변수는 지역 바깥에서 사용할 수 없음\n",
    "\n",
    "def fun3 () :\n",
    "    local_variable = 10\n",
    "    return local_variable\n"
   ]
  },
  {
   "cell_type": "code",
   "execution_count": 50,
   "metadata": {},
   "outputs": [
    {
     "data": {
      "text/plain": [
       "10"
      ]
     },
     "execution_count": 50,
     "metadata": {},
     "output_type": "execute_result"
    }
   ],
   "source": [
    "fun3()\n",
    "local_variable #위에서선언 하지 않으면 사용할 수 없음 \n"
   ]
  },
  {
   "cell_type": "code",
   "execution_count": 47,
   "metadata": {},
   "outputs": [],
   "source": [
    "# 전역에 선언된 변수를 지역에서 사용하고자 한다면\n",
    "# 사용전에 먼저 global 키워드로 특정 전역변수를 사용하도록 지정해야 함"
   ]
  },
  {
   "cell_type": "code",
   "execution_count": 57,
   "metadata": {},
   "outputs": [],
   "source": [
    "local_variable = 100\n",
    "def func4():\n",
    "    global local_variable\n",
    "    local_variable = 10\n"
   ]
  },
  {
   "cell_type": "code",
   "execution_count": 58,
   "metadata": {},
   "outputs": [
    {
     "data": {
      "text/plain": [
       "10"
      ]
     },
     "execution_count": 58,
     "metadata": {},
     "output_type": "execute_result"
    }
   ],
   "source": [
    "func4()\n",
    "local_variable\n"
   ]
  },
  {
   "cell_type": "code",
   "execution_count": 60,
   "metadata": {},
   "outputs": [
    {
     "ename": "SyntaxError",
     "evalue": "invalid syntax (3694084784.py, line 1)",
     "output_type": "error",
     "traceback": [
      "\u001b[1;36m  Cell \u001b[1;32mIn[60], line 1\u001b[1;36m\u001b[0m\n\u001b[1;33m    for a in range:5:\u001b[0m\n\u001b[1;37m                    ^\u001b[0m\n\u001b[1;31mSyntaxError\u001b[0m\u001b[1;31m:\u001b[0m invalid syntax\n"
     ]
    }
   ],
   "source": [
    "\n"
   ]
  }
 ],
 "metadata": {
  "kernelspec": {
   "display_name": "Python 3",
   "language": "python",
   "name": "python3"
  },
  "language_info": {
   "codemirror_mode": {
    "name": "ipython",
    "version": 3
   },
   "file_extension": ".py",
   "mimetype": "text/x-python",
   "name": "python",
   "nbconvert_exporter": "python",
   "pygments_lexer": "ipython3",
   "version": "3.12.2"
  }
 },
 "nbformat": 4,
 "nbformat_minor": 2
}
