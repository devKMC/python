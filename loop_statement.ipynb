{
 "cells": [
  {
   "cell_type": "code",
   "execution_count": null,
   "metadata": {},
   "outputs": [],
   "source": [
    "# 반복문 \n",
    "# for 반복문 : 반복할 횟수가 정해져있는 반복작업에서 사용\n",
    "# for 변수 in range(반복횟수):\n",
    "#   반복할 실행문\n",
    "\n",
    "\n",
    "# for ( int index = 0; index < 5; index ++) - X (아님) 조건검사\n",
    "\n",
    "# int[] array = {0,1,2,3,4};\n",
    "# for (int index: array){}                  - O (형태동일)\n",
    "\n",
    "# range (정수): 0부터 정수 -1 만큼의 길이를 가지는 정수 리스트를 생성\n",
    "# range (시작 정수, 종료 정수) : 시작 정수부터 종료 정수 까지의 정수 리스트 생성\n",
    "# range (시작 정수, 종료 정수, 차이): 시작 정수부터 종료 정수-1 까지의 정수 리스트 생성\n",
    "# 생성 하는데 차이정수 만큼의 차이를 가지며 변경\n",
    "print(list(range(5)))\n",
    "\n",
    "\n",
    "for index in range(5):\n",
    "    print(index)\n",
    "\n",
    "for index in range(5):\n",
    "    print(\"네\")\n",
    "\n",
    "for index in range(5,10):\n",
    "    print(index)\n",
    "\n",
    "for index in range(5,10,3):\n",
    "    print(index)\n",
    "\n",
    "for index in range(10, -1, -1):\n",
    "    print(index)\n",
    "\n",
    "\n",
    "   \n",
    "    "
   ]
  },
  {
   "cell_type": "code",
   "execution_count": null,
   "metadata": {},
   "outputs": [],
   "source": [
    "\n",
    "# for count in range(0,10):\n",
    "#     print( count + 1)\n",
    "    \n",
    "for count in range(1,11):\n",
    "     print(count * '*' )\n",
    "     \n",
    "# for count in range(10):\n",
    "#      print(10 - count)\n",
    "\n",
    "for count in range(10, 0, -1):\n",
    "     print(count * '*')\n",
    "    \n",
    "  \n",
    "\n",
    "    \n",
    "    \n"
   ]
  },
  {
   "cell_type": "code",
   "execution_count": null,
   "metadata": {},
   "outputs": [],
   "source": [
    "for count in range(1,20):\n",
    "   \n",
    "    if  count <= 10:\n",
    "        print( '*' *count)\n",
    "    else:\n",
    "        print (\"*\" * (20-count))"
   ]
  },
  {
   "cell_type": "code",
   "execution_count": 106,
   "metadata": {},
   "outputs": [
    {
     "name": "stdout",
     "output_type": "stream",
     "text": [
      "     *\n",
      "    ***\n",
      "   *****\n",
      "  *******\n",
      " *********\n",
      "***********\n",
      " *********\n",
      "  *******\n",
      "   *****\n",
      "    ***\n",
      "     *\n"
     ]
    }
   ],
   "source": [
    "# 패턴을 파악해야함\n",
    "\n",
    "for count in range(1,12):\n",
    "   \n",
    "    if  count <= 6:\n",
    "        print(\" \" * (6-count)+ \"*\" * (count * 2-1))\n",
    "    else:\n",
    "        print(\" \" * (count-6)+ \"*\" * ((12-count) * 2-1))\n"
   ]
  },
  {
   "cell_type": "code",
   "execution_count": null,
   "metadata": {},
   "outputs": [],
   "source": [
    "\n",
    "for count in range(1,12):\n",
    "    star = '*'\n",
    "    if  count <= 6:\n",
    "        star = \"*\" * (count * 2 - 1)\n",
    "    else:\n",
    "        star = \"*\" * ((12-count) * 2-1)\n",
    "    print(f'{star:^11}')"
   ]
  },
  {
   "cell_type": "code",
   "execution_count": null,
   "metadata": {},
   "outputs": [],
   "source": [
    "for a in range(4):\n",
    "    for b in range(4):\n",
    "        print(a + b, end=\" \")\n",
    "    print(\"\")"
   ]
  },
  {
   "cell_type": "code",
   "execution_count": 139,
   "metadata": {},
   "outputs": [
    {
     "name": "stdout",
     "output_type": "stream",
     "text": [
      "0 1 2 3 \n",
      "1 2 3 4 \n",
      "2 3 4 5 \n",
      "3 4 5 6 \n"
     ]
    }
   ],
   "source": [
    "for start in range(4):\n",
    "    for value in range(start, start + 4):\n",
    "        print (value, end=\" \")\n",
    "    print(\"\") "
   ]
  },
  {
   "cell_type": "code",
   "execution_count": 140,
   "metadata": {},
   "outputs": [
    {
     "name": "stdout",
     "output_type": "stream",
     "text": [
      "1 3\n",
      "2 2\n",
      "2 6\n",
      "3 1\n",
      "3 5\n",
      "4 4\n",
      "5 3\n",
      "6 2\n",
      "6 6\n"
     ]
    }
   ],
   "source": [
    "for six in range (1,7):\n",
    "    for six2 in range (1,7):\n",
    "        if ((six + six2) % 4) == 0:\n",
    "            print(f'{six} {six2}')"
   ]
  },
  {
   "cell_type": "code",
   "execution_count": null,
   "metadata": {},
   "outputs": [],
   "source": [
    "initial_price =1024\n",
    "for day1 in range(2):\n",
    "    price1 = initial_price * (2 if day1 == 1 else 0.5)\n",
    "    \n",
    "    for day2 in range(2):\n",
    "        price2 = price1 * (2 if day2 == 1 else 0.5)\n",
    "        \n",
    "        for day3 in range(2):\n",
    "            price3 = price2 * (2 if day3 == 1 else 0.5)\n",
    "            \n",
    "            for day4 in range(2):\n",
    "                price4 = price3 * (2 if day4 == 1 else 0.5)\n",
    "                print(f\"4일째 주식의 가격: {price4:.0f}원\")\n",
    "\n",
    "\n"
   ]
  },
  {
   "cell_type": "code",
   "execution_count": null,
   "metadata": {},
   "outputs": [],
   "source": [
    "for count in range (1,11):           #1부터 10까지 반복을 돌아라\n",
    "    sum = 0\n",
    "    for value in range(count+1):     # +1을해서 1부터 출력해라\n",
    "        sum += value # 0 , 1 , 2 , 3 \n",
    "    print(sum)\n",
    "    "
   ]
  },
  {
   "cell_type": "code",
   "execution_count": 160,
   "metadata": {},
   "outputs": [],
   "source": [
    "#다음과 같은 수열이 있을 경우에 10번째 수열의 값을 구해라\n",
    "#1+(1+2)+(1+2+3)..... (1+...10)"
   ]
  },
  {
   "cell_type": "code",
   "execution_count": 164,
   "metadata": {},
   "outputs": [
    {
     "name": "stdout",
     "output_type": "stream",
     "text": [
      "220\n"
     ]
    }
   ],
   "source": [
    "sum=0\n",
    "for count in range (1,11):           #1부터 10까지 반복을 돌아라\n",
    "    for value in range(count+1):     # +1을해서 1부터 출력해라\n",
    "        sum += value # 0 , 1 , 2 , 3 \n",
    "print(sum)\n",
    "    "
   ]
  },
  {
   "cell_type": "code",
   "execution_count": null,
   "metadata": {},
   "outputs": [],
   "source": []
  }
 ],
 "metadata": {
  "kernelspec": {
   "display_name": "Python 3",
   "language": "python",
   "name": "python3"
  },
  "language_info": {
   "codemirror_mode": {
    "name": "ipython",
    "version": 3
   },
   "file_extension": ".py",
   "mimetype": "text/x-python",
   "name": "python",
   "nbconvert_exporter": "python",
   "pygments_lexer": "ipython3",
   "version": "3.12.2"
  }
 },
 "nbformat": 4,
 "nbformat_minor": 2
}
